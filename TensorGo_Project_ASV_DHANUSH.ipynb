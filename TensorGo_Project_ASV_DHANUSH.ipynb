{
  "nbformat": 4,
  "nbformat_minor": 0,
  "metadata": {
    "colab": {
      "provenance": []
    },
    "kernelspec": {
      "name": "python3",
      "display_name": "Python 3"
    },
    "language_info": {
      "name": "python"
    },
    "widgets": {
      "application/vnd.jupyter.widget-state+json": {
        "37e86d5c11bf481e98c50bc663eba561": {
          "model_module": "@jupyter-widgets/controls",
          "model_name": "HBoxModel",
          "model_module_version": "1.5.0",
          "state": {
            "_dom_classes": [],
            "_model_module": "@jupyter-widgets/controls",
            "_model_module_version": "1.5.0",
            "_model_name": "HBoxModel",
            "_view_count": null,
            "_view_module": "@jupyter-widgets/controls",
            "_view_module_version": "1.5.0",
            "_view_name": "HBoxView",
            "box_style": "",
            "children": [
              "IPY_MODEL_8c0a19aef2d04afe921212f11d647803",
              "IPY_MODEL_b7d5d9b12db143189cacacc37bf5be26",
              "IPY_MODEL_69ce1ff52bac4ae5a8c55e353bcfd75a"
            ],
            "layout": "IPY_MODEL_88e76616453448628a2375b89852e9c7"
          }
        },
        "8c0a19aef2d04afe921212f11d647803": {
          "model_module": "@jupyter-widgets/controls",
          "model_name": "HTMLModel",
          "model_module_version": "1.5.0",
          "state": {
            "_dom_classes": [],
            "_model_module": "@jupyter-widgets/controls",
            "_model_module_version": "1.5.0",
            "_model_name": "HTMLModel",
            "_view_count": null,
            "_view_module": "@jupyter-widgets/controls",
            "_view_module_version": "1.5.0",
            "_view_name": "HTMLView",
            "description": "",
            "description_tooltip": null,
            "layout": "IPY_MODEL_2e90dd6970934727a05502ad2e819605",
            "placeholder": "​",
            "style": "IPY_MODEL_295010cef5b94e4588ba562e49430cb9",
            "value": "Downloading (…)lve/main/config.json: 100%"
          }
        },
        "b7d5d9b12db143189cacacc37bf5be26": {
          "model_module": "@jupyter-widgets/controls",
          "model_name": "FloatProgressModel",
          "model_module_version": "1.5.0",
          "state": {
            "_dom_classes": [],
            "_model_module": "@jupyter-widgets/controls",
            "_model_module_version": "1.5.0",
            "_model_name": "FloatProgressModel",
            "_view_count": null,
            "_view_module": "@jupyter-widgets/controls",
            "_view_module_version": "1.5.0",
            "_view_name": "ProgressView",
            "bar_style": "success",
            "description": "",
            "description_tooltip": null,
            "layout": "IPY_MODEL_2b7cc78a8ecf48bd8ec7a7995024314a",
            "max": 1381,
            "min": 0,
            "orientation": "horizontal",
            "style": "IPY_MODEL_748f988c7cac4f8da084641efb2ab5f0",
            "value": 1381
          }
        },
        "69ce1ff52bac4ae5a8c55e353bcfd75a": {
          "model_module": "@jupyter-widgets/controls",
          "model_name": "HTMLModel",
          "model_module_version": "1.5.0",
          "state": {
            "_dom_classes": [],
            "_model_module": "@jupyter-widgets/controls",
            "_model_module_version": "1.5.0",
            "_model_name": "HTMLModel",
            "_view_count": null,
            "_view_module": "@jupyter-widgets/controls",
            "_view_module_version": "1.5.0",
            "_view_name": "HTMLView",
            "description": "",
            "description_tooltip": null,
            "layout": "IPY_MODEL_e9e7b7820a144b96ace196e7f2309ff8",
            "placeholder": "​",
            "style": "IPY_MODEL_16e36ca6453f433c9ab7be82cd8460f6",
            "value": " 1.38k/1.38k [00:00&lt;00:00, 57.3kB/s]"
          }
        },
        "88e76616453448628a2375b89852e9c7": {
          "model_module": "@jupyter-widgets/base",
          "model_name": "LayoutModel",
          "model_module_version": "1.2.0",
          "state": {
            "_model_module": "@jupyter-widgets/base",
            "_model_module_version": "1.2.0",
            "_model_name": "LayoutModel",
            "_view_count": null,
            "_view_module": "@jupyter-widgets/base",
            "_view_module_version": "1.2.0",
            "_view_name": "LayoutView",
            "align_content": null,
            "align_items": null,
            "align_self": null,
            "border": null,
            "bottom": null,
            "display": null,
            "flex": null,
            "flex_flow": null,
            "grid_area": null,
            "grid_auto_columns": null,
            "grid_auto_flow": null,
            "grid_auto_rows": null,
            "grid_column": null,
            "grid_gap": null,
            "grid_row": null,
            "grid_template_areas": null,
            "grid_template_columns": null,
            "grid_template_rows": null,
            "height": null,
            "justify_content": null,
            "justify_items": null,
            "left": null,
            "margin": null,
            "max_height": null,
            "max_width": null,
            "min_height": null,
            "min_width": null,
            "object_fit": null,
            "object_position": null,
            "order": null,
            "overflow": null,
            "overflow_x": null,
            "overflow_y": null,
            "padding": null,
            "right": null,
            "top": null,
            "visibility": null,
            "width": null
          }
        },
        "2e90dd6970934727a05502ad2e819605": {
          "model_module": "@jupyter-widgets/base",
          "model_name": "LayoutModel",
          "model_module_version": "1.2.0",
          "state": {
            "_model_module": "@jupyter-widgets/base",
            "_model_module_version": "1.2.0",
            "_model_name": "LayoutModel",
            "_view_count": null,
            "_view_module": "@jupyter-widgets/base",
            "_view_module_version": "1.2.0",
            "_view_name": "LayoutView",
            "align_content": null,
            "align_items": null,
            "align_self": null,
            "border": null,
            "bottom": null,
            "display": null,
            "flex": null,
            "flex_flow": null,
            "grid_area": null,
            "grid_auto_columns": null,
            "grid_auto_flow": null,
            "grid_auto_rows": null,
            "grid_column": null,
            "grid_gap": null,
            "grid_row": null,
            "grid_template_areas": null,
            "grid_template_columns": null,
            "grid_template_rows": null,
            "height": null,
            "justify_content": null,
            "justify_items": null,
            "left": null,
            "margin": null,
            "max_height": null,
            "max_width": null,
            "min_height": null,
            "min_width": null,
            "object_fit": null,
            "object_position": null,
            "order": null,
            "overflow": null,
            "overflow_x": null,
            "overflow_y": null,
            "padding": null,
            "right": null,
            "top": null,
            "visibility": null,
            "width": null
          }
        },
        "295010cef5b94e4588ba562e49430cb9": {
          "model_module": "@jupyter-widgets/controls",
          "model_name": "DescriptionStyleModel",
          "model_module_version": "1.5.0",
          "state": {
            "_model_module": "@jupyter-widgets/controls",
            "_model_module_version": "1.5.0",
            "_model_name": "DescriptionStyleModel",
            "_view_count": null,
            "_view_module": "@jupyter-widgets/base",
            "_view_module_version": "1.2.0",
            "_view_name": "StyleView",
            "description_width": ""
          }
        },
        "2b7cc78a8ecf48bd8ec7a7995024314a": {
          "model_module": "@jupyter-widgets/base",
          "model_name": "LayoutModel",
          "model_module_version": "1.2.0",
          "state": {
            "_model_module": "@jupyter-widgets/base",
            "_model_module_version": "1.2.0",
            "_model_name": "LayoutModel",
            "_view_count": null,
            "_view_module": "@jupyter-widgets/base",
            "_view_module_version": "1.2.0",
            "_view_name": "LayoutView",
            "align_content": null,
            "align_items": null,
            "align_self": null,
            "border": null,
            "bottom": null,
            "display": null,
            "flex": null,
            "flex_flow": null,
            "grid_area": null,
            "grid_auto_columns": null,
            "grid_auto_flow": null,
            "grid_auto_rows": null,
            "grid_column": null,
            "grid_gap": null,
            "grid_row": null,
            "grid_template_areas": null,
            "grid_template_columns": null,
            "grid_template_rows": null,
            "height": null,
            "justify_content": null,
            "justify_items": null,
            "left": null,
            "margin": null,
            "max_height": null,
            "max_width": null,
            "min_height": null,
            "min_width": null,
            "object_fit": null,
            "object_position": null,
            "order": null,
            "overflow": null,
            "overflow_x": null,
            "overflow_y": null,
            "padding": null,
            "right": null,
            "top": null,
            "visibility": null,
            "width": null
          }
        },
        "748f988c7cac4f8da084641efb2ab5f0": {
          "model_module": "@jupyter-widgets/controls",
          "model_name": "ProgressStyleModel",
          "model_module_version": "1.5.0",
          "state": {
            "_model_module": "@jupyter-widgets/controls",
            "_model_module_version": "1.5.0",
            "_model_name": "ProgressStyleModel",
            "_view_count": null,
            "_view_module": "@jupyter-widgets/base",
            "_view_module_version": "1.2.0",
            "_view_name": "StyleView",
            "bar_color": null,
            "description_width": ""
          }
        },
        "e9e7b7820a144b96ace196e7f2309ff8": {
          "model_module": "@jupyter-widgets/base",
          "model_name": "LayoutModel",
          "model_module_version": "1.2.0",
          "state": {
            "_model_module": "@jupyter-widgets/base",
            "_model_module_version": "1.2.0",
            "_model_name": "LayoutModel",
            "_view_count": null,
            "_view_module": "@jupyter-widgets/base",
            "_view_module_version": "1.2.0",
            "_view_name": "LayoutView",
            "align_content": null,
            "align_items": null,
            "align_self": null,
            "border": null,
            "bottom": null,
            "display": null,
            "flex": null,
            "flex_flow": null,
            "grid_area": null,
            "grid_auto_columns": null,
            "grid_auto_flow": null,
            "grid_auto_rows": null,
            "grid_column": null,
            "grid_gap": null,
            "grid_row": null,
            "grid_template_areas": null,
            "grid_template_columns": null,
            "grid_template_rows": null,
            "height": null,
            "justify_content": null,
            "justify_items": null,
            "left": null,
            "margin": null,
            "max_height": null,
            "max_width": null,
            "min_height": null,
            "min_width": null,
            "object_fit": null,
            "object_position": null,
            "order": null,
            "overflow": null,
            "overflow_x": null,
            "overflow_y": null,
            "padding": null,
            "right": null,
            "top": null,
            "visibility": null,
            "width": null
          }
        },
        "16e36ca6453f433c9ab7be82cd8460f6": {
          "model_module": "@jupyter-widgets/controls",
          "model_name": "DescriptionStyleModel",
          "model_module_version": "1.5.0",
          "state": {
            "_model_module": "@jupyter-widgets/controls",
            "_model_module_version": "1.5.0",
            "_model_name": "DescriptionStyleModel",
            "_view_count": null,
            "_view_module": "@jupyter-widgets/base",
            "_view_module_version": "1.2.0",
            "_view_name": "StyleView",
            "description_width": ""
          }
        },
        "ed7ed0ca5ddb4634a70da46562283f9c": {
          "model_module": "@jupyter-widgets/controls",
          "model_name": "HBoxModel",
          "model_module_version": "1.5.0",
          "state": {
            "_dom_classes": [],
            "_model_module": "@jupyter-widgets/controls",
            "_model_module_version": "1.5.0",
            "_model_name": "HBoxModel",
            "_view_count": null,
            "_view_module": "@jupyter-widgets/controls",
            "_view_module_version": "1.5.0",
            "_view_name": "HBoxView",
            "box_style": "",
            "children": [
              "IPY_MODEL_662437b8f1cb45bca22efee0a9fed9fd",
              "IPY_MODEL_328214a223e94f3d8bb5a9c05cfe4495",
              "IPY_MODEL_dee69f8d164e43f19700c1ddc0632279"
            ],
            "layout": "IPY_MODEL_758f525c61a64695a1d94b796b82e6b7"
          }
        },
        "662437b8f1cb45bca22efee0a9fed9fd": {
          "model_module": "@jupyter-widgets/controls",
          "model_name": "HTMLModel",
          "model_module_version": "1.5.0",
          "state": {
            "_dom_classes": [],
            "_model_module": "@jupyter-widgets/controls",
            "_model_module_version": "1.5.0",
            "_model_name": "HTMLModel",
            "_view_count": null,
            "_view_module": "@jupyter-widgets/controls",
            "_view_module_version": "1.5.0",
            "_view_name": "HTMLView",
            "description": "",
            "description_tooltip": null,
            "layout": "IPY_MODEL_046b983d72aa488ba88e1e59ce88e3b2",
            "placeholder": "​",
            "style": "IPY_MODEL_54e722213b9b437a971456309cf29c4f",
            "value": "Downloading pytorch_model.bin: 100%"
          }
        },
        "328214a223e94f3d8bb5a9c05cfe4495": {
          "model_module": "@jupyter-widgets/controls",
          "model_name": "FloatProgressModel",
          "model_module_version": "1.5.0",
          "state": {
            "_dom_classes": [],
            "_model_module": "@jupyter-widgets/controls",
            "_model_module_version": "1.5.0",
            "_model_name": "FloatProgressModel",
            "_view_count": null,
            "_view_module": "@jupyter-widgets/controls",
            "_view_module_version": "1.5.0",
            "_view_name": "ProgressView",
            "bar_style": "success",
            "description": "",
            "description_tooltip": null,
            "layout": "IPY_MODEL_448bfce717114ac5b47c215574dd7a12",
            "max": 297928209,
            "min": 0,
            "orientation": "horizontal",
            "style": "IPY_MODEL_7e316732ca2344dd8d96b81c31fbe386",
            "value": 297928209
          }
        },
        "dee69f8d164e43f19700c1ddc0632279": {
          "model_module": "@jupyter-widgets/controls",
          "model_name": "HTMLModel",
          "model_module_version": "1.5.0",
          "state": {
            "_dom_classes": [],
            "_model_module": "@jupyter-widgets/controls",
            "_model_module_version": "1.5.0",
            "_model_name": "HTMLModel",
            "_view_count": null,
            "_view_module": "@jupyter-widgets/controls",
            "_view_module_version": "1.5.0",
            "_view_name": "HTMLView",
            "description": "",
            "description_tooltip": null,
            "layout": "IPY_MODEL_d10fdf71861343dd90caab2fc47cc064",
            "placeholder": "​",
            "style": "IPY_MODEL_36eaf04c18f24a6eb79f30728f5be677",
            "value": " 298M/298M [00:01&lt;00:00, 223MB/s]"
          }
        },
        "758f525c61a64695a1d94b796b82e6b7": {
          "model_module": "@jupyter-widgets/base",
          "model_name": "LayoutModel",
          "model_module_version": "1.2.0",
          "state": {
            "_model_module": "@jupyter-widgets/base",
            "_model_module_version": "1.2.0",
            "_model_name": "LayoutModel",
            "_view_count": null,
            "_view_module": "@jupyter-widgets/base",
            "_view_module_version": "1.2.0",
            "_view_name": "LayoutView",
            "align_content": null,
            "align_items": null,
            "align_self": null,
            "border": null,
            "bottom": null,
            "display": null,
            "flex": null,
            "flex_flow": null,
            "grid_area": null,
            "grid_auto_columns": null,
            "grid_auto_flow": null,
            "grid_auto_rows": null,
            "grid_column": null,
            "grid_gap": null,
            "grid_row": null,
            "grid_template_areas": null,
            "grid_template_columns": null,
            "grid_template_rows": null,
            "height": null,
            "justify_content": null,
            "justify_items": null,
            "left": null,
            "margin": null,
            "max_height": null,
            "max_width": null,
            "min_height": null,
            "min_width": null,
            "object_fit": null,
            "object_position": null,
            "order": null,
            "overflow": null,
            "overflow_x": null,
            "overflow_y": null,
            "padding": null,
            "right": null,
            "top": null,
            "visibility": null,
            "width": null
          }
        },
        "046b983d72aa488ba88e1e59ce88e3b2": {
          "model_module": "@jupyter-widgets/base",
          "model_name": "LayoutModel",
          "model_module_version": "1.2.0",
          "state": {
            "_model_module": "@jupyter-widgets/base",
            "_model_module_version": "1.2.0",
            "_model_name": "LayoutModel",
            "_view_count": null,
            "_view_module": "@jupyter-widgets/base",
            "_view_module_version": "1.2.0",
            "_view_name": "LayoutView",
            "align_content": null,
            "align_items": null,
            "align_self": null,
            "border": null,
            "bottom": null,
            "display": null,
            "flex": null,
            "flex_flow": null,
            "grid_area": null,
            "grid_auto_columns": null,
            "grid_auto_flow": null,
            "grid_auto_rows": null,
            "grid_column": null,
            "grid_gap": null,
            "grid_row": null,
            "grid_template_areas": null,
            "grid_template_columns": null,
            "grid_template_rows": null,
            "height": null,
            "justify_content": null,
            "justify_items": null,
            "left": null,
            "margin": null,
            "max_height": null,
            "max_width": null,
            "min_height": null,
            "min_width": null,
            "object_fit": null,
            "object_position": null,
            "order": null,
            "overflow": null,
            "overflow_x": null,
            "overflow_y": null,
            "padding": null,
            "right": null,
            "top": null,
            "visibility": null,
            "width": null
          }
        },
        "54e722213b9b437a971456309cf29c4f": {
          "model_module": "@jupyter-widgets/controls",
          "model_name": "DescriptionStyleModel",
          "model_module_version": "1.5.0",
          "state": {
            "_model_module": "@jupyter-widgets/controls",
            "_model_module_version": "1.5.0",
            "_model_name": "DescriptionStyleModel",
            "_view_count": null,
            "_view_module": "@jupyter-widgets/base",
            "_view_module_version": "1.2.0",
            "_view_name": "StyleView",
            "description_width": ""
          }
        },
        "448bfce717114ac5b47c215574dd7a12": {
          "model_module": "@jupyter-widgets/base",
          "model_name": "LayoutModel",
          "model_module_version": "1.2.0",
          "state": {
            "_model_module": "@jupyter-widgets/base",
            "_model_module_version": "1.2.0",
            "_model_name": "LayoutModel",
            "_view_count": null,
            "_view_module": "@jupyter-widgets/base",
            "_view_module_version": "1.2.0",
            "_view_name": "LayoutView",
            "align_content": null,
            "align_items": null,
            "align_self": null,
            "border": null,
            "bottom": null,
            "display": null,
            "flex": null,
            "flex_flow": null,
            "grid_area": null,
            "grid_auto_columns": null,
            "grid_auto_flow": null,
            "grid_auto_rows": null,
            "grid_column": null,
            "grid_gap": null,
            "grid_row": null,
            "grid_template_areas": null,
            "grid_template_columns": null,
            "grid_template_rows": null,
            "height": null,
            "justify_content": null,
            "justify_items": null,
            "left": null,
            "margin": null,
            "max_height": null,
            "max_width": null,
            "min_height": null,
            "min_width": null,
            "object_fit": null,
            "object_position": null,
            "order": null,
            "overflow": null,
            "overflow_x": null,
            "overflow_y": null,
            "padding": null,
            "right": null,
            "top": null,
            "visibility": null,
            "width": null
          }
        },
        "7e316732ca2344dd8d96b81c31fbe386": {
          "model_module": "@jupyter-widgets/controls",
          "model_name": "ProgressStyleModel",
          "model_module_version": "1.5.0",
          "state": {
            "_model_module": "@jupyter-widgets/controls",
            "_model_module_version": "1.5.0",
            "_model_name": "ProgressStyleModel",
            "_view_count": null,
            "_view_module": "@jupyter-widgets/base",
            "_view_module_version": "1.2.0",
            "_view_name": "StyleView",
            "bar_color": null,
            "description_width": ""
          }
        },
        "d10fdf71861343dd90caab2fc47cc064": {
          "model_module": "@jupyter-widgets/base",
          "model_name": "LayoutModel",
          "model_module_version": "1.2.0",
          "state": {
            "_model_module": "@jupyter-widgets/base",
            "_model_module_version": "1.2.0",
            "_model_name": "LayoutModel",
            "_view_count": null,
            "_view_module": "@jupyter-widgets/base",
            "_view_module_version": "1.2.0",
            "_view_name": "LayoutView",
            "align_content": null,
            "align_items": null,
            "align_self": null,
            "border": null,
            "bottom": null,
            "display": null,
            "flex": null,
            "flex_flow": null,
            "grid_area": null,
            "grid_auto_columns": null,
            "grid_auto_flow": null,
            "grid_auto_rows": null,
            "grid_column": null,
            "grid_gap": null,
            "grid_row": null,
            "grid_template_areas": null,
            "grid_template_columns": null,
            "grid_template_rows": null,
            "height": null,
            "justify_content": null,
            "justify_items": null,
            "left": null,
            "margin": null,
            "max_height": null,
            "max_width": null,
            "min_height": null,
            "min_width": null,
            "object_fit": null,
            "object_position": null,
            "order": null,
            "overflow": null,
            "overflow_x": null,
            "overflow_y": null,
            "padding": null,
            "right": null,
            "top": null,
            "visibility": null,
            "width": null
          }
        },
        "36eaf04c18f24a6eb79f30728f5be677": {
          "model_module": "@jupyter-widgets/controls",
          "model_name": "DescriptionStyleModel",
          "model_module_version": "1.5.0",
          "state": {
            "_model_module": "@jupyter-widgets/controls",
            "_model_module_version": "1.5.0",
            "_model_name": "DescriptionStyleModel",
            "_view_count": null,
            "_view_module": "@jupyter-widgets/base",
            "_view_module_version": "1.2.0",
            "_view_name": "StyleView",
            "description_width": ""
          }
        },
        "4158f70e11c94f72995594037c6b5c24": {
          "model_module": "@jupyter-widgets/controls",
          "model_name": "HBoxModel",
          "model_module_version": "1.5.0",
          "state": {
            "_dom_classes": [],
            "_model_module": "@jupyter-widgets/controls",
            "_model_module_version": "1.5.0",
            "_model_name": "HBoxModel",
            "_view_count": null,
            "_view_module": "@jupyter-widgets/controls",
            "_view_module_version": "1.5.0",
            "_view_name": "HBoxView",
            "box_style": "",
            "children": [
              "IPY_MODEL_a185ac0be37e458eb35ca48c3304d43d",
              "IPY_MODEL_9c17ef0bb6e249cf9064e52303a00cb8",
              "IPY_MODEL_6cc6c92b6084435fafc3dae2c412f084"
            ],
            "layout": "IPY_MODEL_b0eb96f25f374c59bf462e548e0b0b29"
          }
        },
        "a185ac0be37e458eb35ca48c3304d43d": {
          "model_module": "@jupyter-widgets/controls",
          "model_name": "HTMLModel",
          "model_module_version": "1.5.0",
          "state": {
            "_dom_classes": [],
            "_model_module": "@jupyter-widgets/controls",
            "_model_module_version": "1.5.0",
            "_model_name": "HTMLModel",
            "_view_count": null,
            "_view_module": "@jupyter-widgets/controls",
            "_view_module_version": "1.5.0",
            "_view_name": "HTMLView",
            "description": "",
            "description_tooltip": null,
            "layout": "IPY_MODEL_118d436f1cf548ac9137700ab97d45a8",
            "placeholder": "​",
            "style": "IPY_MODEL_f73ddbab18e447519775f13227a1358d",
            "value": "Downloading (…)neration_config.json: 100%"
          }
        },
        "9c17ef0bb6e249cf9064e52303a00cb8": {
          "model_module": "@jupyter-widgets/controls",
          "model_name": "FloatProgressModel",
          "model_module_version": "1.5.0",
          "state": {
            "_dom_classes": [],
            "_model_module": "@jupyter-widgets/controls",
            "_model_module_version": "1.5.0",
            "_model_name": "FloatProgressModel",
            "_view_count": null,
            "_view_module": "@jupyter-widgets/controls",
            "_view_module_version": "1.5.0",
            "_view_name": "ProgressView",
            "bar_style": "success",
            "description": "",
            "description_tooltip": null,
            "layout": "IPY_MODEL_1a2f7278a3b347d593086e1fcbfb6169",
            "max": 293,
            "min": 0,
            "orientation": "horizontal",
            "style": "IPY_MODEL_ede31b85dd134b43943fb74ac2cdeebe",
            "value": 293
          }
        },
        "6cc6c92b6084435fafc3dae2c412f084": {
          "model_module": "@jupyter-widgets/controls",
          "model_name": "HTMLModel",
          "model_module_version": "1.5.0",
          "state": {
            "_dom_classes": [],
            "_model_module": "@jupyter-widgets/controls",
            "_model_module_version": "1.5.0",
            "_model_name": "HTMLModel",
            "_view_count": null,
            "_view_module": "@jupyter-widgets/controls",
            "_view_module_version": "1.5.0",
            "_view_name": "HTMLView",
            "description": "",
            "description_tooltip": null,
            "layout": "IPY_MODEL_b3332f7c7d5a4dc38e59680ca8bbe083",
            "placeholder": "​",
            "style": "IPY_MODEL_c11e4ddb39b644bfac32874ce48ad55d",
            "value": " 293/293 [00:00&lt;00:00, 11.3kB/s]"
          }
        },
        "b0eb96f25f374c59bf462e548e0b0b29": {
          "model_module": "@jupyter-widgets/base",
          "model_name": "LayoutModel",
          "model_module_version": "1.2.0",
          "state": {
            "_model_module": "@jupyter-widgets/base",
            "_model_module_version": "1.2.0",
            "_model_name": "LayoutModel",
            "_view_count": null,
            "_view_module": "@jupyter-widgets/base",
            "_view_module_version": "1.2.0",
            "_view_name": "LayoutView",
            "align_content": null,
            "align_items": null,
            "align_self": null,
            "border": null,
            "bottom": null,
            "display": null,
            "flex": null,
            "flex_flow": null,
            "grid_area": null,
            "grid_auto_columns": null,
            "grid_auto_flow": null,
            "grid_auto_rows": null,
            "grid_column": null,
            "grid_gap": null,
            "grid_row": null,
            "grid_template_areas": null,
            "grid_template_columns": null,
            "grid_template_rows": null,
            "height": null,
            "justify_content": null,
            "justify_items": null,
            "left": null,
            "margin": null,
            "max_height": null,
            "max_width": null,
            "min_height": null,
            "min_width": null,
            "object_fit": null,
            "object_position": null,
            "order": null,
            "overflow": null,
            "overflow_x": null,
            "overflow_y": null,
            "padding": null,
            "right": null,
            "top": null,
            "visibility": null,
            "width": null
          }
        },
        "118d436f1cf548ac9137700ab97d45a8": {
          "model_module": "@jupyter-widgets/base",
          "model_name": "LayoutModel",
          "model_module_version": "1.2.0",
          "state": {
            "_model_module": "@jupyter-widgets/base",
            "_model_module_version": "1.2.0",
            "_model_name": "LayoutModel",
            "_view_count": null,
            "_view_module": "@jupyter-widgets/base",
            "_view_module_version": "1.2.0",
            "_view_name": "LayoutView",
            "align_content": null,
            "align_items": null,
            "align_self": null,
            "border": null,
            "bottom": null,
            "display": null,
            "flex": null,
            "flex_flow": null,
            "grid_area": null,
            "grid_auto_columns": null,
            "grid_auto_flow": null,
            "grid_auto_rows": null,
            "grid_column": null,
            "grid_gap": null,
            "grid_row": null,
            "grid_template_areas": null,
            "grid_template_columns": null,
            "grid_template_rows": null,
            "height": null,
            "justify_content": null,
            "justify_items": null,
            "left": null,
            "margin": null,
            "max_height": null,
            "max_width": null,
            "min_height": null,
            "min_width": null,
            "object_fit": null,
            "object_position": null,
            "order": null,
            "overflow": null,
            "overflow_x": null,
            "overflow_y": null,
            "padding": null,
            "right": null,
            "top": null,
            "visibility": null,
            "width": null
          }
        },
        "f73ddbab18e447519775f13227a1358d": {
          "model_module": "@jupyter-widgets/controls",
          "model_name": "DescriptionStyleModel",
          "model_module_version": "1.5.0",
          "state": {
            "_model_module": "@jupyter-widgets/controls",
            "_model_module_version": "1.5.0",
            "_model_name": "DescriptionStyleModel",
            "_view_count": null,
            "_view_module": "@jupyter-widgets/base",
            "_view_module_version": "1.2.0",
            "_view_name": "StyleView",
            "description_width": ""
          }
        },
        "1a2f7278a3b347d593086e1fcbfb6169": {
          "model_module": "@jupyter-widgets/base",
          "model_name": "LayoutModel",
          "model_module_version": "1.2.0",
          "state": {
            "_model_module": "@jupyter-widgets/base",
            "_model_module_version": "1.2.0",
            "_model_name": "LayoutModel",
            "_view_count": null,
            "_view_module": "@jupyter-widgets/base",
            "_view_module_version": "1.2.0",
            "_view_name": "LayoutView",
            "align_content": null,
            "align_items": null,
            "align_self": null,
            "border": null,
            "bottom": null,
            "display": null,
            "flex": null,
            "flex_flow": null,
            "grid_area": null,
            "grid_auto_columns": null,
            "grid_auto_flow": null,
            "grid_auto_rows": null,
            "grid_column": null,
            "grid_gap": null,
            "grid_row": null,
            "grid_template_areas": null,
            "grid_template_columns": null,
            "grid_template_rows": null,
            "height": null,
            "justify_content": null,
            "justify_items": null,
            "left": null,
            "margin": null,
            "max_height": null,
            "max_width": null,
            "min_height": null,
            "min_width": null,
            "object_fit": null,
            "object_position": null,
            "order": null,
            "overflow": null,
            "overflow_x": null,
            "overflow_y": null,
            "padding": null,
            "right": null,
            "top": null,
            "visibility": null,
            "width": null
          }
        },
        "ede31b85dd134b43943fb74ac2cdeebe": {
          "model_module": "@jupyter-widgets/controls",
          "model_name": "ProgressStyleModel",
          "model_module_version": "1.5.0",
          "state": {
            "_model_module": "@jupyter-widgets/controls",
            "_model_module_version": "1.5.0",
            "_model_name": "ProgressStyleModel",
            "_view_count": null,
            "_view_module": "@jupyter-widgets/base",
            "_view_module_version": "1.2.0",
            "_view_name": "StyleView",
            "bar_color": null,
            "description_width": ""
          }
        },
        "b3332f7c7d5a4dc38e59680ca8bbe083": {
          "model_module": "@jupyter-widgets/base",
          "model_name": "LayoutModel",
          "model_module_version": "1.2.0",
          "state": {
            "_model_module": "@jupyter-widgets/base",
            "_model_module_version": "1.2.0",
            "_model_name": "LayoutModel",
            "_view_count": null,
            "_view_module": "@jupyter-widgets/base",
            "_view_module_version": "1.2.0",
            "_view_name": "LayoutView",
            "align_content": null,
            "align_items": null,
            "align_self": null,
            "border": null,
            "bottom": null,
            "display": null,
            "flex": null,
            "flex_flow": null,
            "grid_area": null,
            "grid_auto_columns": null,
            "grid_auto_flow": null,
            "grid_auto_rows": null,
            "grid_column": null,
            "grid_gap": null,
            "grid_row": null,
            "grid_template_areas": null,
            "grid_template_columns": null,
            "grid_template_rows": null,
            "height": null,
            "justify_content": null,
            "justify_items": null,
            "left": null,
            "margin": null,
            "max_height": null,
            "max_width": null,
            "min_height": null,
            "min_width": null,
            "object_fit": null,
            "object_position": null,
            "order": null,
            "overflow": null,
            "overflow_x": null,
            "overflow_y": null,
            "padding": null,
            "right": null,
            "top": null,
            "visibility": null,
            "width": null
          }
        },
        "c11e4ddb39b644bfac32874ce48ad55d": {
          "model_module": "@jupyter-widgets/controls",
          "model_name": "DescriptionStyleModel",
          "model_module_version": "1.5.0",
          "state": {
            "_model_module": "@jupyter-widgets/controls",
            "_model_module_version": "1.5.0",
            "_model_name": "DescriptionStyleModel",
            "_view_count": null,
            "_view_module": "@jupyter-widgets/base",
            "_view_module_version": "1.2.0",
            "_view_name": "StyleView",
            "description_width": ""
          }
        },
        "2c3f60ef7de8401c87883f47c0cc42cb": {
          "model_module": "@jupyter-widgets/controls",
          "model_name": "HBoxModel",
          "model_module_version": "1.5.0",
          "state": {
            "_dom_classes": [],
            "_model_module": "@jupyter-widgets/controls",
            "_model_module_version": "1.5.0",
            "_model_name": "HBoxModel",
            "_view_count": null,
            "_view_module": "@jupyter-widgets/controls",
            "_view_module_version": "1.5.0",
            "_view_name": "HBoxView",
            "box_style": "",
            "children": [
              "IPY_MODEL_1140f01feea446cd8034a07bcb716443",
              "IPY_MODEL_9cb2c5a6d375463f9c680c615194369f",
              "IPY_MODEL_e941b79978be42cc93a9fac29a80bc29"
            ],
            "layout": "IPY_MODEL_342ca6295b2f4b24bd45e4d13ec88c54"
          }
        },
        "1140f01feea446cd8034a07bcb716443": {
          "model_module": "@jupyter-widgets/controls",
          "model_name": "HTMLModel",
          "model_module_version": "1.5.0",
          "state": {
            "_dom_classes": [],
            "_model_module": "@jupyter-widgets/controls",
            "_model_module_version": "1.5.0",
            "_model_name": "HTMLModel",
            "_view_count": null,
            "_view_module": "@jupyter-widgets/controls",
            "_view_module_version": "1.5.0",
            "_view_name": "HTMLView",
            "description": "",
            "description_tooltip": null,
            "layout": "IPY_MODEL_e0874d9f0c5247c0adf1f13080299221",
            "placeholder": "​",
            "style": "IPY_MODEL_39f6e1e5be3d4fcba65166214d3b3952",
            "value": "Downloading (…)okenizer_config.json: 100%"
          }
        },
        "9cb2c5a6d375463f9c680c615194369f": {
          "model_module": "@jupyter-widgets/controls",
          "model_name": "FloatProgressModel",
          "model_module_version": "1.5.0",
          "state": {
            "_dom_classes": [],
            "_model_module": "@jupyter-widgets/controls",
            "_model_module_version": "1.5.0",
            "_model_name": "FloatProgressModel",
            "_view_count": null,
            "_view_module": "@jupyter-widgets/controls",
            "_view_module_version": "1.5.0",
            "_view_name": "ProgressView",
            "bar_style": "success",
            "description": "",
            "description_tooltip": null,
            "layout": "IPY_MODEL_05be18f27bac4478a688d82348605b7e",
            "max": 42,
            "min": 0,
            "orientation": "horizontal",
            "style": "IPY_MODEL_1ed390041c3b4748949cb5ac5733a6dc",
            "value": 42
          }
        },
        "e941b79978be42cc93a9fac29a80bc29": {
          "model_module": "@jupyter-widgets/controls",
          "model_name": "HTMLModel",
          "model_module_version": "1.5.0",
          "state": {
            "_dom_classes": [],
            "_model_module": "@jupyter-widgets/controls",
            "_model_module_version": "1.5.0",
            "_model_name": "HTMLModel",
            "_view_count": null,
            "_view_module": "@jupyter-widgets/controls",
            "_view_module_version": "1.5.0",
            "_view_name": "HTMLView",
            "description": "",
            "description_tooltip": null,
            "layout": "IPY_MODEL_3c6374b7098448d98f27012365ee6f5a",
            "placeholder": "​",
            "style": "IPY_MODEL_90ad76c962494acd89130f53a3439bb0",
            "value": " 42.0/42.0 [00:00&lt;00:00, 1.56kB/s]"
          }
        },
        "342ca6295b2f4b24bd45e4d13ec88c54": {
          "model_module": "@jupyter-widgets/base",
          "model_name": "LayoutModel",
          "model_module_version": "1.2.0",
          "state": {
            "_model_module": "@jupyter-widgets/base",
            "_model_module_version": "1.2.0",
            "_model_name": "LayoutModel",
            "_view_count": null,
            "_view_module": "@jupyter-widgets/base",
            "_view_module_version": "1.2.0",
            "_view_name": "LayoutView",
            "align_content": null,
            "align_items": null,
            "align_self": null,
            "border": null,
            "bottom": null,
            "display": null,
            "flex": null,
            "flex_flow": null,
            "grid_area": null,
            "grid_auto_columns": null,
            "grid_auto_flow": null,
            "grid_auto_rows": null,
            "grid_column": null,
            "grid_gap": null,
            "grid_row": null,
            "grid_template_areas": null,
            "grid_template_columns": null,
            "grid_template_rows": null,
            "height": null,
            "justify_content": null,
            "justify_items": null,
            "left": null,
            "margin": null,
            "max_height": null,
            "max_width": null,
            "min_height": null,
            "min_width": null,
            "object_fit": null,
            "object_position": null,
            "order": null,
            "overflow": null,
            "overflow_x": null,
            "overflow_y": null,
            "padding": null,
            "right": null,
            "top": null,
            "visibility": null,
            "width": null
          }
        },
        "e0874d9f0c5247c0adf1f13080299221": {
          "model_module": "@jupyter-widgets/base",
          "model_name": "LayoutModel",
          "model_module_version": "1.2.0",
          "state": {
            "_model_module": "@jupyter-widgets/base",
            "_model_module_version": "1.2.0",
            "_model_name": "LayoutModel",
            "_view_count": null,
            "_view_module": "@jupyter-widgets/base",
            "_view_module_version": "1.2.0",
            "_view_name": "LayoutView",
            "align_content": null,
            "align_items": null,
            "align_self": null,
            "border": null,
            "bottom": null,
            "display": null,
            "flex": null,
            "flex_flow": null,
            "grid_area": null,
            "grid_auto_columns": null,
            "grid_auto_flow": null,
            "grid_auto_rows": null,
            "grid_column": null,
            "grid_gap": null,
            "grid_row": null,
            "grid_template_areas": null,
            "grid_template_columns": null,
            "grid_template_rows": null,
            "height": null,
            "justify_content": null,
            "justify_items": null,
            "left": null,
            "margin": null,
            "max_height": null,
            "max_width": null,
            "min_height": null,
            "min_width": null,
            "object_fit": null,
            "object_position": null,
            "order": null,
            "overflow": null,
            "overflow_x": null,
            "overflow_y": null,
            "padding": null,
            "right": null,
            "top": null,
            "visibility": null,
            "width": null
          }
        },
        "39f6e1e5be3d4fcba65166214d3b3952": {
          "model_module": "@jupyter-widgets/controls",
          "model_name": "DescriptionStyleModel",
          "model_module_version": "1.5.0",
          "state": {
            "_model_module": "@jupyter-widgets/controls",
            "_model_module_version": "1.5.0",
            "_model_name": "DescriptionStyleModel",
            "_view_count": null,
            "_view_module": "@jupyter-widgets/base",
            "_view_module_version": "1.2.0",
            "_view_name": "StyleView",
            "description_width": ""
          }
        },
        "05be18f27bac4478a688d82348605b7e": {
          "model_module": "@jupyter-widgets/base",
          "model_name": "LayoutModel",
          "model_module_version": "1.2.0",
          "state": {
            "_model_module": "@jupyter-widgets/base",
            "_model_module_version": "1.2.0",
            "_model_name": "LayoutModel",
            "_view_count": null,
            "_view_module": "@jupyter-widgets/base",
            "_view_module_version": "1.2.0",
            "_view_name": "LayoutView",
            "align_content": null,
            "align_items": null,
            "align_self": null,
            "border": null,
            "bottom": null,
            "display": null,
            "flex": null,
            "flex_flow": null,
            "grid_area": null,
            "grid_auto_columns": null,
            "grid_auto_flow": null,
            "grid_auto_rows": null,
            "grid_column": null,
            "grid_gap": null,
            "grid_row": null,
            "grid_template_areas": null,
            "grid_template_columns": null,
            "grid_template_rows": null,
            "height": null,
            "justify_content": null,
            "justify_items": null,
            "left": null,
            "margin": null,
            "max_height": null,
            "max_width": null,
            "min_height": null,
            "min_width": null,
            "object_fit": null,
            "object_position": null,
            "order": null,
            "overflow": null,
            "overflow_x": null,
            "overflow_y": null,
            "padding": null,
            "right": null,
            "top": null,
            "visibility": null,
            "width": null
          }
        },
        "1ed390041c3b4748949cb5ac5733a6dc": {
          "model_module": "@jupyter-widgets/controls",
          "model_name": "ProgressStyleModel",
          "model_module_version": "1.5.0",
          "state": {
            "_model_module": "@jupyter-widgets/controls",
            "_model_module_version": "1.5.0",
            "_model_name": "ProgressStyleModel",
            "_view_count": null,
            "_view_module": "@jupyter-widgets/base",
            "_view_module_version": "1.2.0",
            "_view_name": "StyleView",
            "bar_color": null,
            "description_width": ""
          }
        },
        "3c6374b7098448d98f27012365ee6f5a": {
          "model_module": "@jupyter-widgets/base",
          "model_name": "LayoutModel",
          "model_module_version": "1.2.0",
          "state": {
            "_model_module": "@jupyter-widgets/base",
            "_model_module_version": "1.2.0",
            "_model_name": "LayoutModel",
            "_view_count": null,
            "_view_module": "@jupyter-widgets/base",
            "_view_module_version": "1.2.0",
            "_view_name": "LayoutView",
            "align_content": null,
            "align_items": null,
            "align_self": null,
            "border": null,
            "bottom": null,
            "display": null,
            "flex": null,
            "flex_flow": null,
            "grid_area": null,
            "grid_auto_columns": null,
            "grid_auto_flow": null,
            "grid_auto_rows": null,
            "grid_column": null,
            "grid_gap": null,
            "grid_row": null,
            "grid_template_areas": null,
            "grid_template_columns": null,
            "grid_template_rows": null,
            "height": null,
            "justify_content": null,
            "justify_items": null,
            "left": null,
            "margin": null,
            "max_height": null,
            "max_width": null,
            "min_height": null,
            "min_width": null,
            "object_fit": null,
            "object_position": null,
            "order": null,
            "overflow": null,
            "overflow_x": null,
            "overflow_y": null,
            "padding": null,
            "right": null,
            "top": null,
            "visibility": null,
            "width": null
          }
        },
        "90ad76c962494acd89130f53a3439bb0": {
          "model_module": "@jupyter-widgets/controls",
          "model_name": "DescriptionStyleModel",
          "model_module_version": "1.5.0",
          "state": {
            "_model_module": "@jupyter-widgets/controls",
            "_model_module_version": "1.5.0",
            "_model_name": "DescriptionStyleModel",
            "_view_count": null,
            "_view_module": "@jupyter-widgets/base",
            "_view_module_version": "1.2.0",
            "_view_name": "StyleView",
            "description_width": ""
          }
        },
        "0864c8f3fcf041129efceb08ea4f4ee5": {
          "model_module": "@jupyter-widgets/controls",
          "model_name": "HBoxModel",
          "model_module_version": "1.5.0",
          "state": {
            "_dom_classes": [],
            "_model_module": "@jupyter-widgets/controls",
            "_model_module_version": "1.5.0",
            "_model_name": "HBoxModel",
            "_view_count": null,
            "_view_module": "@jupyter-widgets/controls",
            "_view_module_version": "1.5.0",
            "_view_name": "HBoxView",
            "box_style": "",
            "children": [
              "IPY_MODEL_d0520364888344b784fba66624ce1527",
              "IPY_MODEL_4d9c528cabf64a5e9b203b70119dcee7",
              "IPY_MODEL_6a611874dd094d73aedfc10cb35e2d48"
            ],
            "layout": "IPY_MODEL_02b0cb7191104ab19e9b1969750a9ce0"
          }
        },
        "d0520364888344b784fba66624ce1527": {
          "model_module": "@jupyter-widgets/controls",
          "model_name": "HTMLModel",
          "model_module_version": "1.5.0",
          "state": {
            "_dom_classes": [],
            "_model_module": "@jupyter-widgets/controls",
            "_model_module_version": "1.5.0",
            "_model_name": "HTMLModel",
            "_view_count": null,
            "_view_module": "@jupyter-widgets/controls",
            "_view_module_version": "1.5.0",
            "_view_name": "HTMLView",
            "description": "",
            "description_tooltip": null,
            "layout": "IPY_MODEL_a27b3f9a1c944d72bb694e1822233b64",
            "placeholder": "​",
            "style": "IPY_MODEL_78cb5ac0a4d44e23a082858da8f0533a",
            "value": "Downloading (…)olve/main/source.spm: 100%"
          }
        },
        "4d9c528cabf64a5e9b203b70119dcee7": {
          "model_module": "@jupyter-widgets/controls",
          "model_name": "FloatProgressModel",
          "model_module_version": "1.5.0",
          "state": {
            "_dom_classes": [],
            "_model_module": "@jupyter-widgets/controls",
            "_model_module_version": "1.5.0",
            "_model_name": "FloatProgressModel",
            "_view_count": null,
            "_view_module": "@jupyter-widgets/controls",
            "_view_module_version": "1.5.0",
            "_view_name": "ProgressView",
            "bar_style": "success",
            "description": "",
            "description_tooltip": null,
            "layout": "IPY_MODEL_62bda7e1ce1a408cbc23942ef50097fe",
            "max": 796845,
            "min": 0,
            "orientation": "horizontal",
            "style": "IPY_MODEL_0954fe402ced43a7b50f1432d39dab38",
            "value": 796845
          }
        },
        "6a611874dd094d73aedfc10cb35e2d48": {
          "model_module": "@jupyter-widgets/controls",
          "model_name": "HTMLModel",
          "model_module_version": "1.5.0",
          "state": {
            "_dom_classes": [],
            "_model_module": "@jupyter-widgets/controls",
            "_model_module_version": "1.5.0",
            "_model_name": "HTMLModel",
            "_view_count": null,
            "_view_module": "@jupyter-widgets/controls",
            "_view_module_version": "1.5.0",
            "_view_name": "HTMLView",
            "description": "",
            "description_tooltip": null,
            "layout": "IPY_MODEL_db1ff26b8efc49a9abe736ca34abb205",
            "placeholder": "​",
            "style": "IPY_MODEL_f04ced1ec1ef4c3f9ffa43837e13a0b0",
            "value": " 797k/797k [00:00&lt;00:00, 2.44MB/s]"
          }
        },
        "02b0cb7191104ab19e9b1969750a9ce0": {
          "model_module": "@jupyter-widgets/base",
          "model_name": "LayoutModel",
          "model_module_version": "1.2.0",
          "state": {
            "_model_module": "@jupyter-widgets/base",
            "_model_module_version": "1.2.0",
            "_model_name": "LayoutModel",
            "_view_count": null,
            "_view_module": "@jupyter-widgets/base",
            "_view_module_version": "1.2.0",
            "_view_name": "LayoutView",
            "align_content": null,
            "align_items": null,
            "align_self": null,
            "border": null,
            "bottom": null,
            "display": null,
            "flex": null,
            "flex_flow": null,
            "grid_area": null,
            "grid_auto_columns": null,
            "grid_auto_flow": null,
            "grid_auto_rows": null,
            "grid_column": null,
            "grid_gap": null,
            "grid_row": null,
            "grid_template_areas": null,
            "grid_template_columns": null,
            "grid_template_rows": null,
            "height": null,
            "justify_content": null,
            "justify_items": null,
            "left": null,
            "margin": null,
            "max_height": null,
            "max_width": null,
            "min_height": null,
            "min_width": null,
            "object_fit": null,
            "object_position": null,
            "order": null,
            "overflow": null,
            "overflow_x": null,
            "overflow_y": null,
            "padding": null,
            "right": null,
            "top": null,
            "visibility": null,
            "width": null
          }
        },
        "a27b3f9a1c944d72bb694e1822233b64": {
          "model_module": "@jupyter-widgets/base",
          "model_name": "LayoutModel",
          "model_module_version": "1.2.0",
          "state": {
            "_model_module": "@jupyter-widgets/base",
            "_model_module_version": "1.2.0",
            "_model_name": "LayoutModel",
            "_view_count": null,
            "_view_module": "@jupyter-widgets/base",
            "_view_module_version": "1.2.0",
            "_view_name": "LayoutView",
            "align_content": null,
            "align_items": null,
            "align_self": null,
            "border": null,
            "bottom": null,
            "display": null,
            "flex": null,
            "flex_flow": null,
            "grid_area": null,
            "grid_auto_columns": null,
            "grid_auto_flow": null,
            "grid_auto_rows": null,
            "grid_column": null,
            "grid_gap": null,
            "grid_row": null,
            "grid_template_areas": null,
            "grid_template_columns": null,
            "grid_template_rows": null,
            "height": null,
            "justify_content": null,
            "justify_items": null,
            "left": null,
            "margin": null,
            "max_height": null,
            "max_width": null,
            "min_height": null,
            "min_width": null,
            "object_fit": null,
            "object_position": null,
            "order": null,
            "overflow": null,
            "overflow_x": null,
            "overflow_y": null,
            "padding": null,
            "right": null,
            "top": null,
            "visibility": null,
            "width": null
          }
        },
        "78cb5ac0a4d44e23a082858da8f0533a": {
          "model_module": "@jupyter-widgets/controls",
          "model_name": "DescriptionStyleModel",
          "model_module_version": "1.5.0",
          "state": {
            "_model_module": "@jupyter-widgets/controls",
            "_model_module_version": "1.5.0",
            "_model_name": "DescriptionStyleModel",
            "_view_count": null,
            "_view_module": "@jupyter-widgets/base",
            "_view_module_version": "1.2.0",
            "_view_name": "StyleView",
            "description_width": ""
          }
        },
        "62bda7e1ce1a408cbc23942ef50097fe": {
          "model_module": "@jupyter-widgets/base",
          "model_name": "LayoutModel",
          "model_module_version": "1.2.0",
          "state": {
            "_model_module": "@jupyter-widgets/base",
            "_model_module_version": "1.2.0",
            "_model_name": "LayoutModel",
            "_view_count": null,
            "_view_module": "@jupyter-widgets/base",
            "_view_module_version": "1.2.0",
            "_view_name": "LayoutView",
            "align_content": null,
            "align_items": null,
            "align_self": null,
            "border": null,
            "bottom": null,
            "display": null,
            "flex": null,
            "flex_flow": null,
            "grid_area": null,
            "grid_auto_columns": null,
            "grid_auto_flow": null,
            "grid_auto_rows": null,
            "grid_column": null,
            "grid_gap": null,
            "grid_row": null,
            "grid_template_areas": null,
            "grid_template_columns": null,
            "grid_template_rows": null,
            "height": null,
            "justify_content": null,
            "justify_items": null,
            "left": null,
            "margin": null,
            "max_height": null,
            "max_width": null,
            "min_height": null,
            "min_width": null,
            "object_fit": null,
            "object_position": null,
            "order": null,
            "overflow": null,
            "overflow_x": null,
            "overflow_y": null,
            "padding": null,
            "right": null,
            "top": null,
            "visibility": null,
            "width": null
          }
        },
        "0954fe402ced43a7b50f1432d39dab38": {
          "model_module": "@jupyter-widgets/controls",
          "model_name": "ProgressStyleModel",
          "model_module_version": "1.5.0",
          "state": {
            "_model_module": "@jupyter-widgets/controls",
            "_model_module_version": "1.5.0",
            "_model_name": "ProgressStyleModel",
            "_view_count": null,
            "_view_module": "@jupyter-widgets/base",
            "_view_module_version": "1.2.0",
            "_view_name": "StyleView",
            "bar_color": null,
            "description_width": ""
          }
        },
        "db1ff26b8efc49a9abe736ca34abb205": {
          "model_module": "@jupyter-widgets/base",
          "model_name": "LayoutModel",
          "model_module_version": "1.2.0",
          "state": {
            "_model_module": "@jupyter-widgets/base",
            "_model_module_version": "1.2.0",
            "_model_name": "LayoutModel",
            "_view_count": null,
            "_view_module": "@jupyter-widgets/base",
            "_view_module_version": "1.2.0",
            "_view_name": "LayoutView",
            "align_content": null,
            "align_items": null,
            "align_self": null,
            "border": null,
            "bottom": null,
            "display": null,
            "flex": null,
            "flex_flow": null,
            "grid_area": null,
            "grid_auto_columns": null,
            "grid_auto_flow": null,
            "grid_auto_rows": null,
            "grid_column": null,
            "grid_gap": null,
            "grid_row": null,
            "grid_template_areas": null,
            "grid_template_columns": null,
            "grid_template_rows": null,
            "height": null,
            "justify_content": null,
            "justify_items": null,
            "left": null,
            "margin": null,
            "max_height": null,
            "max_width": null,
            "min_height": null,
            "min_width": null,
            "object_fit": null,
            "object_position": null,
            "order": null,
            "overflow": null,
            "overflow_x": null,
            "overflow_y": null,
            "padding": null,
            "right": null,
            "top": null,
            "visibility": null,
            "width": null
          }
        },
        "f04ced1ec1ef4c3f9ffa43837e13a0b0": {
          "model_module": "@jupyter-widgets/controls",
          "model_name": "DescriptionStyleModel",
          "model_module_version": "1.5.0",
          "state": {
            "_model_module": "@jupyter-widgets/controls",
            "_model_module_version": "1.5.0",
            "_model_name": "DescriptionStyleModel",
            "_view_count": null,
            "_view_module": "@jupyter-widgets/base",
            "_view_module_version": "1.2.0",
            "_view_name": "StyleView",
            "description_width": ""
          }
        },
        "75c3c9fdaae54de8a3f9896bbc75f775": {
          "model_module": "@jupyter-widgets/controls",
          "model_name": "HBoxModel",
          "model_module_version": "1.5.0",
          "state": {
            "_dom_classes": [],
            "_model_module": "@jupyter-widgets/controls",
            "_model_module_version": "1.5.0",
            "_model_name": "HBoxModel",
            "_view_count": null,
            "_view_module": "@jupyter-widgets/controls",
            "_view_module_version": "1.5.0",
            "_view_name": "HBoxView",
            "box_style": "",
            "children": [
              "IPY_MODEL_622563190dea4dd1a02e859eaa0db103",
              "IPY_MODEL_4313e3e2e72d493792ae2fc81d3a290d",
              "IPY_MODEL_7d9c2f835ede476a8ac06fbbbe65dbcc"
            ],
            "layout": "IPY_MODEL_8274f2ab0e7e4063b8afe4e760f74cda"
          }
        },
        "622563190dea4dd1a02e859eaa0db103": {
          "model_module": "@jupyter-widgets/controls",
          "model_name": "HTMLModel",
          "model_module_version": "1.5.0",
          "state": {
            "_dom_classes": [],
            "_model_module": "@jupyter-widgets/controls",
            "_model_module_version": "1.5.0",
            "_model_name": "HTMLModel",
            "_view_count": null,
            "_view_module": "@jupyter-widgets/controls",
            "_view_module_version": "1.5.0",
            "_view_name": "HTMLView",
            "description": "",
            "description_tooltip": null,
            "layout": "IPY_MODEL_2128aa9cccb647a58b741eca23000927",
            "placeholder": "​",
            "style": "IPY_MODEL_16846d33565f40bd95d0d62f2965edaa",
            "value": "Downloading (…)olve/main/target.spm: 100%"
          }
        },
        "4313e3e2e72d493792ae2fc81d3a290d": {
          "model_module": "@jupyter-widgets/controls",
          "model_name": "FloatProgressModel",
          "model_module_version": "1.5.0",
          "state": {
            "_dom_classes": [],
            "_model_module": "@jupyter-widgets/controls",
            "_model_module_version": "1.5.0",
            "_model_name": "FloatProgressModel",
            "_view_count": null,
            "_view_module": "@jupyter-widgets/controls",
            "_view_module_version": "1.5.0",
            "_view_name": "ProgressView",
            "bar_style": "success",
            "description": "",
            "description_tooltip": null,
            "layout": "IPY_MODEL_7d5661035e1a4211a52d19510e2812c2",
            "max": 768489,
            "min": 0,
            "orientation": "horizontal",
            "style": "IPY_MODEL_287c45a5dd3648c6b43144d0f6e529b5",
            "value": 768489
          }
        },
        "7d9c2f835ede476a8ac06fbbbe65dbcc": {
          "model_module": "@jupyter-widgets/controls",
          "model_name": "HTMLModel",
          "model_module_version": "1.5.0",
          "state": {
            "_dom_classes": [],
            "_model_module": "@jupyter-widgets/controls",
            "_model_module_version": "1.5.0",
            "_model_name": "HTMLModel",
            "_view_count": null,
            "_view_module": "@jupyter-widgets/controls",
            "_view_module_version": "1.5.0",
            "_view_name": "HTMLView",
            "description": "",
            "description_tooltip": null,
            "layout": "IPY_MODEL_b40890ed9f224415a9473d1f966640a5",
            "placeholder": "​",
            "style": "IPY_MODEL_b8ebd43ca6834c8596d6c0af06aba1d2",
            "value": " 768k/768k [00:00&lt;00:00, 3.17MB/s]"
          }
        },
        "8274f2ab0e7e4063b8afe4e760f74cda": {
          "model_module": "@jupyter-widgets/base",
          "model_name": "LayoutModel",
          "model_module_version": "1.2.0",
          "state": {
            "_model_module": "@jupyter-widgets/base",
            "_model_module_version": "1.2.0",
            "_model_name": "LayoutModel",
            "_view_count": null,
            "_view_module": "@jupyter-widgets/base",
            "_view_module_version": "1.2.0",
            "_view_name": "LayoutView",
            "align_content": null,
            "align_items": null,
            "align_self": null,
            "border": null,
            "bottom": null,
            "display": null,
            "flex": null,
            "flex_flow": null,
            "grid_area": null,
            "grid_auto_columns": null,
            "grid_auto_flow": null,
            "grid_auto_rows": null,
            "grid_column": null,
            "grid_gap": null,
            "grid_row": null,
            "grid_template_areas": null,
            "grid_template_columns": null,
            "grid_template_rows": null,
            "height": null,
            "justify_content": null,
            "justify_items": null,
            "left": null,
            "margin": null,
            "max_height": null,
            "max_width": null,
            "min_height": null,
            "min_width": null,
            "object_fit": null,
            "object_position": null,
            "order": null,
            "overflow": null,
            "overflow_x": null,
            "overflow_y": null,
            "padding": null,
            "right": null,
            "top": null,
            "visibility": null,
            "width": null
          }
        },
        "2128aa9cccb647a58b741eca23000927": {
          "model_module": "@jupyter-widgets/base",
          "model_name": "LayoutModel",
          "model_module_version": "1.2.0",
          "state": {
            "_model_module": "@jupyter-widgets/base",
            "_model_module_version": "1.2.0",
            "_model_name": "LayoutModel",
            "_view_count": null,
            "_view_module": "@jupyter-widgets/base",
            "_view_module_version": "1.2.0",
            "_view_name": "LayoutView",
            "align_content": null,
            "align_items": null,
            "align_self": null,
            "border": null,
            "bottom": null,
            "display": null,
            "flex": null,
            "flex_flow": null,
            "grid_area": null,
            "grid_auto_columns": null,
            "grid_auto_flow": null,
            "grid_auto_rows": null,
            "grid_column": null,
            "grid_gap": null,
            "grid_row": null,
            "grid_template_areas": null,
            "grid_template_columns": null,
            "grid_template_rows": null,
            "height": null,
            "justify_content": null,
            "justify_items": null,
            "left": null,
            "margin": null,
            "max_height": null,
            "max_width": null,
            "min_height": null,
            "min_width": null,
            "object_fit": null,
            "object_position": null,
            "order": null,
            "overflow": null,
            "overflow_x": null,
            "overflow_y": null,
            "padding": null,
            "right": null,
            "top": null,
            "visibility": null,
            "width": null
          }
        },
        "16846d33565f40bd95d0d62f2965edaa": {
          "model_module": "@jupyter-widgets/controls",
          "model_name": "DescriptionStyleModel",
          "model_module_version": "1.5.0",
          "state": {
            "_model_module": "@jupyter-widgets/controls",
            "_model_module_version": "1.5.0",
            "_model_name": "DescriptionStyleModel",
            "_view_count": null,
            "_view_module": "@jupyter-widgets/base",
            "_view_module_version": "1.2.0",
            "_view_name": "StyleView",
            "description_width": ""
          }
        },
        "7d5661035e1a4211a52d19510e2812c2": {
          "model_module": "@jupyter-widgets/base",
          "model_name": "LayoutModel",
          "model_module_version": "1.2.0",
          "state": {
            "_model_module": "@jupyter-widgets/base",
            "_model_module_version": "1.2.0",
            "_model_name": "LayoutModel",
            "_view_count": null,
            "_view_module": "@jupyter-widgets/base",
            "_view_module_version": "1.2.0",
            "_view_name": "LayoutView",
            "align_content": null,
            "align_items": null,
            "align_self": null,
            "border": null,
            "bottom": null,
            "display": null,
            "flex": null,
            "flex_flow": null,
            "grid_area": null,
            "grid_auto_columns": null,
            "grid_auto_flow": null,
            "grid_auto_rows": null,
            "grid_column": null,
            "grid_gap": null,
            "grid_row": null,
            "grid_template_areas": null,
            "grid_template_columns": null,
            "grid_template_rows": null,
            "height": null,
            "justify_content": null,
            "justify_items": null,
            "left": null,
            "margin": null,
            "max_height": null,
            "max_width": null,
            "min_height": null,
            "min_width": null,
            "object_fit": null,
            "object_position": null,
            "order": null,
            "overflow": null,
            "overflow_x": null,
            "overflow_y": null,
            "padding": null,
            "right": null,
            "top": null,
            "visibility": null,
            "width": null
          }
        },
        "287c45a5dd3648c6b43144d0f6e529b5": {
          "model_module": "@jupyter-widgets/controls",
          "model_name": "ProgressStyleModel",
          "model_module_version": "1.5.0",
          "state": {
            "_model_module": "@jupyter-widgets/controls",
            "_model_module_version": "1.5.0",
            "_model_name": "ProgressStyleModel",
            "_view_count": null,
            "_view_module": "@jupyter-widgets/base",
            "_view_module_version": "1.2.0",
            "_view_name": "StyleView",
            "bar_color": null,
            "description_width": ""
          }
        },
        "b40890ed9f224415a9473d1f966640a5": {
          "model_module": "@jupyter-widgets/base",
          "model_name": "LayoutModel",
          "model_module_version": "1.2.0",
          "state": {
            "_model_module": "@jupyter-widgets/base",
            "_model_module_version": "1.2.0",
            "_model_name": "LayoutModel",
            "_view_count": null,
            "_view_module": "@jupyter-widgets/base",
            "_view_module_version": "1.2.0",
            "_view_name": "LayoutView",
            "align_content": null,
            "align_items": null,
            "align_self": null,
            "border": null,
            "bottom": null,
            "display": null,
            "flex": null,
            "flex_flow": null,
            "grid_area": null,
            "grid_auto_columns": null,
            "grid_auto_flow": null,
            "grid_auto_rows": null,
            "grid_column": null,
            "grid_gap": null,
            "grid_row": null,
            "grid_template_areas": null,
            "grid_template_columns": null,
            "grid_template_rows": null,
            "height": null,
            "justify_content": null,
            "justify_items": null,
            "left": null,
            "margin": null,
            "max_height": null,
            "max_width": null,
            "min_height": null,
            "min_width": null,
            "object_fit": null,
            "object_position": null,
            "order": null,
            "overflow": null,
            "overflow_x": null,
            "overflow_y": null,
            "padding": null,
            "right": null,
            "top": null,
            "visibility": null,
            "width": null
          }
        },
        "b8ebd43ca6834c8596d6c0af06aba1d2": {
          "model_module": "@jupyter-widgets/controls",
          "model_name": "DescriptionStyleModel",
          "model_module_version": "1.5.0",
          "state": {
            "_model_module": "@jupyter-widgets/controls",
            "_model_module_version": "1.5.0",
            "_model_name": "DescriptionStyleModel",
            "_view_count": null,
            "_view_module": "@jupyter-widgets/base",
            "_view_module_version": "1.2.0",
            "_view_name": "StyleView",
            "description_width": ""
          }
        },
        "8f80cfc5fb8c466fa8d23bcd6746b075": {
          "model_module": "@jupyter-widgets/controls",
          "model_name": "HBoxModel",
          "model_module_version": "1.5.0",
          "state": {
            "_dom_classes": [],
            "_model_module": "@jupyter-widgets/controls",
            "_model_module_version": "1.5.0",
            "_model_name": "HBoxModel",
            "_view_count": null,
            "_view_module": "@jupyter-widgets/controls",
            "_view_module_version": "1.5.0",
            "_view_name": "HBoxView",
            "box_style": "",
            "children": [
              "IPY_MODEL_c7b123bbbbc24fd8bc24e127e70cd6c1",
              "IPY_MODEL_aa10126804444cee8318cb8d0b8d929b",
              "IPY_MODEL_9aa5e8a41fa44ed2b41af8ac0dc4e407"
            ],
            "layout": "IPY_MODEL_6229932b2d184319be33a8fdb970da21"
          }
        },
        "c7b123bbbbc24fd8bc24e127e70cd6c1": {
          "model_module": "@jupyter-widgets/controls",
          "model_name": "HTMLModel",
          "model_module_version": "1.5.0",
          "state": {
            "_dom_classes": [],
            "_model_module": "@jupyter-widgets/controls",
            "_model_module_version": "1.5.0",
            "_model_name": "HTMLModel",
            "_view_count": null,
            "_view_module": "@jupyter-widgets/controls",
            "_view_module_version": "1.5.0",
            "_view_name": "HTMLView",
            "description": "",
            "description_tooltip": null,
            "layout": "IPY_MODEL_2e4d436c5fa1419eb6d67937c2a1f4b9",
            "placeholder": "​",
            "style": "IPY_MODEL_e7aa7ef01ba346959298a997e9b4f596",
            "value": "Downloading (…)olve/main/vocab.json: 100%"
          }
        },
        "aa10126804444cee8318cb8d0b8d929b": {
          "model_module": "@jupyter-widgets/controls",
          "model_name": "FloatProgressModel",
          "model_module_version": "1.5.0",
          "state": {
            "_dom_classes": [],
            "_model_module": "@jupyter-widgets/controls",
            "_model_module_version": "1.5.0",
            "_model_name": "FloatProgressModel",
            "_view_count": null,
            "_view_module": "@jupyter-widgets/controls",
            "_view_module_version": "1.5.0",
            "_view_name": "ProgressView",
            "bar_style": "success",
            "description": "",
            "description_tooltip": null,
            "layout": "IPY_MODEL_b20d74ea1e7e49ee8e0bb69eb07b8883",
            "max": 1273232,
            "min": 0,
            "orientation": "horizontal",
            "style": "IPY_MODEL_df00952ab5d8475fb4fc96c5e77c8893",
            "value": 1273232
          }
        },
        "9aa5e8a41fa44ed2b41af8ac0dc4e407": {
          "model_module": "@jupyter-widgets/controls",
          "model_name": "HTMLModel",
          "model_module_version": "1.5.0",
          "state": {
            "_dom_classes": [],
            "_model_module": "@jupyter-widgets/controls",
            "_model_module_version": "1.5.0",
            "_model_name": "HTMLModel",
            "_view_count": null,
            "_view_module": "@jupyter-widgets/controls",
            "_view_module_version": "1.5.0",
            "_view_name": "HTMLView",
            "description": "",
            "description_tooltip": null,
            "layout": "IPY_MODEL_1913e178444e4c73a6227b595f2ce583",
            "placeholder": "​",
            "style": "IPY_MODEL_daa728cda66f4cda88e1556a4114339f",
            "value": " 1.27M/1.27M [00:00&lt;00:00, 3.07MB/s]"
          }
        },
        "6229932b2d184319be33a8fdb970da21": {
          "model_module": "@jupyter-widgets/base",
          "model_name": "LayoutModel",
          "model_module_version": "1.2.0",
          "state": {
            "_model_module": "@jupyter-widgets/base",
            "_model_module_version": "1.2.0",
            "_model_name": "LayoutModel",
            "_view_count": null,
            "_view_module": "@jupyter-widgets/base",
            "_view_module_version": "1.2.0",
            "_view_name": "LayoutView",
            "align_content": null,
            "align_items": null,
            "align_self": null,
            "border": null,
            "bottom": null,
            "display": null,
            "flex": null,
            "flex_flow": null,
            "grid_area": null,
            "grid_auto_columns": null,
            "grid_auto_flow": null,
            "grid_auto_rows": null,
            "grid_column": null,
            "grid_gap": null,
            "grid_row": null,
            "grid_template_areas": null,
            "grid_template_columns": null,
            "grid_template_rows": null,
            "height": null,
            "justify_content": null,
            "justify_items": null,
            "left": null,
            "margin": null,
            "max_height": null,
            "max_width": null,
            "min_height": null,
            "min_width": null,
            "object_fit": null,
            "object_position": null,
            "order": null,
            "overflow": null,
            "overflow_x": null,
            "overflow_y": null,
            "padding": null,
            "right": null,
            "top": null,
            "visibility": null,
            "width": null
          }
        },
        "2e4d436c5fa1419eb6d67937c2a1f4b9": {
          "model_module": "@jupyter-widgets/base",
          "model_name": "LayoutModel",
          "model_module_version": "1.2.0",
          "state": {
            "_model_module": "@jupyter-widgets/base",
            "_model_module_version": "1.2.0",
            "_model_name": "LayoutModel",
            "_view_count": null,
            "_view_module": "@jupyter-widgets/base",
            "_view_module_version": "1.2.0",
            "_view_name": "LayoutView",
            "align_content": null,
            "align_items": null,
            "align_self": null,
            "border": null,
            "bottom": null,
            "display": null,
            "flex": null,
            "flex_flow": null,
            "grid_area": null,
            "grid_auto_columns": null,
            "grid_auto_flow": null,
            "grid_auto_rows": null,
            "grid_column": null,
            "grid_gap": null,
            "grid_row": null,
            "grid_template_areas": null,
            "grid_template_columns": null,
            "grid_template_rows": null,
            "height": null,
            "justify_content": null,
            "justify_items": null,
            "left": null,
            "margin": null,
            "max_height": null,
            "max_width": null,
            "min_height": null,
            "min_width": null,
            "object_fit": null,
            "object_position": null,
            "order": null,
            "overflow": null,
            "overflow_x": null,
            "overflow_y": null,
            "padding": null,
            "right": null,
            "top": null,
            "visibility": null,
            "width": null
          }
        },
        "e7aa7ef01ba346959298a997e9b4f596": {
          "model_module": "@jupyter-widgets/controls",
          "model_name": "DescriptionStyleModel",
          "model_module_version": "1.5.0",
          "state": {
            "_model_module": "@jupyter-widgets/controls",
            "_model_module_version": "1.5.0",
            "_model_name": "DescriptionStyleModel",
            "_view_count": null,
            "_view_module": "@jupyter-widgets/base",
            "_view_module_version": "1.2.0",
            "_view_name": "StyleView",
            "description_width": ""
          }
        },
        "b20d74ea1e7e49ee8e0bb69eb07b8883": {
          "model_module": "@jupyter-widgets/base",
          "model_name": "LayoutModel",
          "model_module_version": "1.2.0",
          "state": {
            "_model_module": "@jupyter-widgets/base",
            "_model_module_version": "1.2.0",
            "_model_name": "LayoutModel",
            "_view_count": null,
            "_view_module": "@jupyter-widgets/base",
            "_view_module_version": "1.2.0",
            "_view_name": "LayoutView",
            "align_content": null,
            "align_items": null,
            "align_self": null,
            "border": null,
            "bottom": null,
            "display": null,
            "flex": null,
            "flex_flow": null,
            "grid_area": null,
            "grid_auto_columns": null,
            "grid_auto_flow": null,
            "grid_auto_rows": null,
            "grid_column": null,
            "grid_gap": null,
            "grid_row": null,
            "grid_template_areas": null,
            "grid_template_columns": null,
            "grid_template_rows": null,
            "height": null,
            "justify_content": null,
            "justify_items": null,
            "left": null,
            "margin": null,
            "max_height": null,
            "max_width": null,
            "min_height": null,
            "min_width": null,
            "object_fit": null,
            "object_position": null,
            "order": null,
            "overflow": null,
            "overflow_x": null,
            "overflow_y": null,
            "padding": null,
            "right": null,
            "top": null,
            "visibility": null,
            "width": null
          }
        },
        "df00952ab5d8475fb4fc96c5e77c8893": {
          "model_module": "@jupyter-widgets/controls",
          "model_name": "ProgressStyleModel",
          "model_module_version": "1.5.0",
          "state": {
            "_model_module": "@jupyter-widgets/controls",
            "_model_module_version": "1.5.0",
            "_model_name": "ProgressStyleModel",
            "_view_count": null,
            "_view_module": "@jupyter-widgets/base",
            "_view_module_version": "1.2.0",
            "_view_name": "StyleView",
            "bar_color": null,
            "description_width": ""
          }
        },
        "1913e178444e4c73a6227b595f2ce583": {
          "model_module": "@jupyter-widgets/base",
          "model_name": "LayoutModel",
          "model_module_version": "1.2.0",
          "state": {
            "_model_module": "@jupyter-widgets/base",
            "_model_module_version": "1.2.0",
            "_model_name": "LayoutModel",
            "_view_count": null,
            "_view_module": "@jupyter-widgets/base",
            "_view_module_version": "1.2.0",
            "_view_name": "LayoutView",
            "align_content": null,
            "align_items": null,
            "align_self": null,
            "border": null,
            "bottom": null,
            "display": null,
            "flex": null,
            "flex_flow": null,
            "grid_area": null,
            "grid_auto_columns": null,
            "grid_auto_flow": null,
            "grid_auto_rows": null,
            "grid_column": null,
            "grid_gap": null,
            "grid_row": null,
            "grid_template_areas": null,
            "grid_template_columns": null,
            "grid_template_rows": null,
            "height": null,
            "justify_content": null,
            "justify_items": null,
            "left": null,
            "margin": null,
            "max_height": null,
            "max_width": null,
            "min_height": null,
            "min_width": null,
            "object_fit": null,
            "object_position": null,
            "order": null,
            "overflow": null,
            "overflow_x": null,
            "overflow_y": null,
            "padding": null,
            "right": null,
            "top": null,
            "visibility": null,
            "width": null
          }
        },
        "daa728cda66f4cda88e1556a4114339f": {
          "model_module": "@jupyter-widgets/controls",
          "model_name": "DescriptionStyleModel",
          "model_module_version": "1.5.0",
          "state": {
            "_model_module": "@jupyter-widgets/controls",
            "_model_module_version": "1.5.0",
            "_model_name": "DescriptionStyleModel",
            "_view_count": null,
            "_view_module": "@jupyter-widgets/base",
            "_view_module_version": "1.2.0",
            "_view_name": "StyleView",
            "description_width": ""
          }
        }
      }
    }
  },
  "cells": [
    {
      "cell_type": "markdown",
      "source": [
        "##Done By Anumakonda Sai Venkata Dhanush\n",
        "##Email : cs20b1057@iiitdm.ac.in , dhanush.atwork@gmail.com\n",
        "###This Notebook consists of the code that has tthe deliveries that are needed for the TensorGo Intership project"
      ],
      "metadata": {
        "id": "aQ1ts0STG-gX"
      }
    },
    {
      "cell_type": "markdown",
      "source": [
        "####**Installing Necessary Libraries**\n"
      ],
      "metadata": {
        "id": "wg1PWpLEfaDB"
      }
    },
    {
      "cell_type": "code",
      "source": [
        "!pip install openai\n",
        "!pip install pydub"
      ],
      "metadata": {
        "colab": {
          "base_uri": "https://localhost:8080/"
        },
        "id": "7O6fINFaggjZ",
        "outputId": "5229c835-6702-4098-917a-2bc4b31ccb69",
        "collapsed": true
      },
      "execution_count": 1,
      "outputs": [
        {
          "output_type": "stream",
          "name": "stdout",
          "text": [
            "Collecting openai\n",
            "  Downloading openai-1.2.4-py3-none-any.whl (220 kB)\n",
            "\u001b[2K     \u001b[90m━━━━━━━━━━━━━━━━━━━━━━━━━━━━━━━━━━━━━━━━\u001b[0m \u001b[32m220.2/220.2 kB\u001b[0m \u001b[31m5.0 MB/s\u001b[0m eta \u001b[36m0:00:00\u001b[0m\n",
            "\u001b[?25hRequirement already satisfied: anyio<4,>=3.5.0 in /usr/local/lib/python3.10/dist-packages (from openai) (3.7.1)\n",
            "Requirement already satisfied: distro<2,>=1.7.0 in /usr/lib/python3/dist-packages (from openai) (1.7.0)\n",
            "Collecting httpx<1,>=0.23.0 (from openai)\n",
            "  Downloading httpx-0.25.1-py3-none-any.whl (75 kB)\n",
            "\u001b[2K     \u001b[90m━━━━━━━━━━━━━━━━━━━━━━━━━━━━━━━━━━━━━━━━\u001b[0m \u001b[32m75.0/75.0 kB\u001b[0m \u001b[31m7.1 MB/s\u001b[0m eta \u001b[36m0:00:00\u001b[0m\n",
            "\u001b[?25hRequirement already satisfied: pydantic<3,>=1.9.0 in /usr/local/lib/python3.10/dist-packages (from openai) (1.10.13)\n",
            "Requirement already satisfied: tqdm>4 in /usr/local/lib/python3.10/dist-packages (from openai) (4.66.1)\n",
            "Requirement already satisfied: typing-extensions<5,>=4.5 in /usr/local/lib/python3.10/dist-packages (from openai) (4.5.0)\n",
            "Requirement already satisfied: idna>=2.8 in /usr/local/lib/python3.10/dist-packages (from anyio<4,>=3.5.0->openai) (3.4)\n",
            "Requirement already satisfied: sniffio>=1.1 in /usr/local/lib/python3.10/dist-packages (from anyio<4,>=3.5.0->openai) (1.3.0)\n",
            "Requirement already satisfied: exceptiongroup in /usr/local/lib/python3.10/dist-packages (from anyio<4,>=3.5.0->openai) (1.1.3)\n",
            "Requirement already satisfied: certifi in /usr/local/lib/python3.10/dist-packages (from httpx<1,>=0.23.0->openai) (2023.7.22)\n",
            "Collecting httpcore (from httpx<1,>=0.23.0->openai)\n",
            "  Downloading httpcore-1.0.2-py3-none-any.whl (76 kB)\n",
            "\u001b[2K     \u001b[90m━━━━━━━━━━━━━━━━━━━━━━━━━━━━━━━━━━━━━━━━\u001b[0m \u001b[32m76.9/76.9 kB\u001b[0m \u001b[31m6.6 MB/s\u001b[0m eta \u001b[36m0:00:00\u001b[0m\n",
            "\u001b[?25hCollecting h11<0.15,>=0.13 (from httpcore->httpx<1,>=0.23.0->openai)\n",
            "  Downloading h11-0.14.0-py3-none-any.whl (58 kB)\n",
            "\u001b[2K     \u001b[90m━━━━━━━━━━━━━━━━━━━━━━━━━━━━━━━━━━━━━━━━\u001b[0m \u001b[32m58.3/58.3 kB\u001b[0m \u001b[31m4.6 MB/s\u001b[0m eta \u001b[36m0:00:00\u001b[0m\n",
            "\u001b[?25hInstalling collected packages: h11, httpcore, httpx, openai\n",
            "\u001b[31mERROR: pip's dependency resolver does not currently take into account all the packages that are installed. This behaviour is the source of the following dependency conflicts.\n",
            "llmx 0.0.15a0 requires cohere, which is not installed.\n",
            "llmx 0.0.15a0 requires tiktoken, which is not installed.\u001b[0m\u001b[31m\n",
            "\u001b[0mSuccessfully installed h11-0.14.0 httpcore-1.0.2 httpx-0.25.1 openai-1.2.4\n",
            "Collecting pydub\n",
            "  Downloading pydub-0.25.1-py2.py3-none-any.whl (32 kB)\n",
            "Installing collected packages: pydub\n",
            "Successfully installed pydub-0.25.1\n"
          ]
        }
      ]
    },
    {
      "cell_type": "code",
      "source": [
        "# Shows execution time of each cell\n",
        "!pip install --quiet ipython-autotime\n",
        "%load_ext autotime"
      ],
      "metadata": {
        "colab": {
          "base_uri": "https://localhost:8080/"
        },
        "id": "f44EPa5ytI7m",
        "outputId": "45d582ee-56ed-4358-a40f-95145e32f4fb",
        "collapsed": true
      },
      "execution_count": 2,
      "outputs": [
        {
          "output_type": "stream",
          "name": "stdout",
          "text": [
            "\u001b[?25l     \u001b[90m━━━━━━━━━━━━━━━━━━━━━━━━━━━━━━━━━━━━━━━━\u001b[0m \u001b[32m0.0/1.6 MB\u001b[0m \u001b[31m?\u001b[0m eta \u001b[36m-:--:--\u001b[0m\r\u001b[2K     \u001b[91m━━━━\u001b[0m\u001b[90m╺\u001b[0m\u001b[90m━━━━━━━━━━━━━━━━━━━━━━━━━━━━━━━━━━━\u001b[0m \u001b[32m0.2/1.6 MB\u001b[0m \u001b[31m5.8 MB/s\u001b[0m eta \u001b[36m0:00:01\u001b[0m\r\u001b[2K     \u001b[91m━━━━━━━━━━━━━━━━\u001b[0m\u001b[91m╸\u001b[0m\u001b[90m━━━━━━━━━━━━━━━━━━━━━━━\u001b[0m \u001b[32m0.7/1.6 MB\u001b[0m \u001b[31m10.0 MB/s\u001b[0m eta \u001b[36m0:00:01\u001b[0m\r\u001b[2K     \u001b[91m━━━━━━━━━━━━━━━━━━━━━━━━━━━━━━━━━\u001b[0m\u001b[91m╸\u001b[0m\u001b[90m━━━━━━\u001b[0m \u001b[32m1.3/1.6 MB\u001b[0m \u001b[31m13.3 MB/s\u001b[0m eta \u001b[36m0:00:01\u001b[0m\r\u001b[2K     \u001b[90m━━━━━━━━━━━━━━━━━━━━━━━━━━━━━━━━━━━━━━━━\u001b[0m \u001b[32m1.6/1.6 MB\u001b[0m \u001b[31m12.7 MB/s\u001b[0m eta \u001b[36m0:00:00\u001b[0m\n",
            "\u001b[?25htime: 287 µs (started: 2023-11-15 16:30:55 +00:00)\n"
          ]
        }
      ]
    },
    {
      "cell_type": "code",
      "source": [
        "!pip install transformers"
      ],
      "metadata": {
        "id": "CEc1ZSZ6u4mo",
        "colab": {
          "base_uri": "https://localhost:8080/"
        },
        "outputId": "0c5c2928-636e-445e-a08a-deb7f98163bc",
        "collapsed": true
      },
      "execution_count": 12,
      "outputs": [
        {
          "output_type": "stream",
          "name": "stdout",
          "text": [
            "Collecting transformers\n",
            "  Downloading transformers-4.35.1-py3-none-any.whl (7.9 MB)\n",
            "\u001b[2K     \u001b[90m━━━━━━━━━━━━━━━━━━━━━━━━━━━━━━━━━━━━━━━━\u001b[0m \u001b[32m7.9/7.9 MB\u001b[0m \u001b[31m30.0 MB/s\u001b[0m eta \u001b[36m0:00:00\u001b[0m\n",
            "\u001b[?25hRequirement already satisfied: filelock in /usr/local/lib/python3.10/dist-packages (from transformers) (3.13.1)\n",
            "Collecting huggingface-hub<1.0,>=0.16.4 (from transformers)\n",
            "  Downloading huggingface_hub-0.19.3-py3-none-any.whl (311 kB)\n",
            "\u001b[2K     \u001b[90m━━━━━━━━━━━━━━━━━━━━━━━━━━━━━━━━━━━━━━━━\u001b[0m \u001b[32m311.2/311.2 kB\u001b[0m \u001b[31m32.8 MB/s\u001b[0m eta \u001b[36m0:00:00\u001b[0m\n",
            "\u001b[?25hRequirement already satisfied: numpy>=1.17 in /usr/local/lib/python3.10/dist-packages (from transformers) (1.23.5)\n",
            "Requirement already satisfied: packaging>=20.0 in /usr/local/lib/python3.10/dist-packages (from transformers) (23.2)\n",
            "Requirement already satisfied: pyyaml>=5.1 in /usr/local/lib/python3.10/dist-packages (from transformers) (6.0.1)\n",
            "Requirement already satisfied: regex!=2019.12.17 in /usr/local/lib/python3.10/dist-packages (from transformers) (2023.6.3)\n",
            "Requirement already satisfied: requests in /usr/local/lib/python3.10/dist-packages (from transformers) (2.31.0)\n",
            "Collecting tokenizers<0.15,>=0.14 (from transformers)\n",
            "  Downloading tokenizers-0.14.1-cp310-cp310-manylinux_2_17_x86_64.manylinux2014_x86_64.whl (3.8 MB)\n",
            "\u001b[2K     \u001b[90m━━━━━━━━━━━━━━━━━━━━━━━━━━━━━━━━━━━━━━━━\u001b[0m \u001b[32m3.8/3.8 MB\u001b[0m \u001b[31m69.2 MB/s\u001b[0m eta \u001b[36m0:00:00\u001b[0m\n",
            "\u001b[?25hCollecting safetensors>=0.3.1 (from transformers)\n",
            "  Downloading safetensors-0.4.0-cp310-cp310-manylinux_2_17_x86_64.manylinux2014_x86_64.whl (1.3 MB)\n",
            "\u001b[2K     \u001b[90m━━━━━━━━━━━━━━━━━━━━━━━━━━━━━━━━━━━━━━━━\u001b[0m \u001b[32m1.3/1.3 MB\u001b[0m \u001b[31m74.0 MB/s\u001b[0m eta \u001b[36m0:00:00\u001b[0m\n",
            "\u001b[?25hRequirement already satisfied: tqdm>=4.27 in /usr/local/lib/python3.10/dist-packages (from transformers) (4.66.1)\n",
            "Requirement already satisfied: fsspec>=2023.5.0 in /usr/local/lib/python3.10/dist-packages (from huggingface-hub<1.0,>=0.16.4->transformers) (2023.6.0)\n",
            "Requirement already satisfied: typing-extensions>=3.7.4.3 in /usr/local/lib/python3.10/dist-packages (from huggingface-hub<1.0,>=0.16.4->transformers) (4.5.0)\n",
            "Collecting huggingface-hub<1.0,>=0.16.4 (from transformers)\n",
            "  Downloading huggingface_hub-0.17.3-py3-none-any.whl (295 kB)\n",
            "\u001b[2K     \u001b[90m━━━━━━━━━━━━━━━━━━━━━━━━━━━━━━━━━━━━━━━━\u001b[0m \u001b[32m295.0/295.0 kB\u001b[0m \u001b[31m31.2 MB/s\u001b[0m eta \u001b[36m0:00:00\u001b[0m\n",
            "\u001b[?25hRequirement already satisfied: charset-normalizer<4,>=2 in /usr/local/lib/python3.10/dist-packages (from requests->transformers) (3.3.2)\n",
            "Requirement already satisfied: idna<4,>=2.5 in /usr/local/lib/python3.10/dist-packages (from requests->transformers) (3.4)\n",
            "Requirement already satisfied: urllib3<3,>=1.21.1 in /usr/local/lib/python3.10/dist-packages (from requests->transformers) (2.0.7)\n",
            "Requirement already satisfied: certifi>=2017.4.17 in /usr/local/lib/python3.10/dist-packages (from requests->transformers) (2023.7.22)\n",
            "Installing collected packages: safetensors, huggingface-hub, tokenizers, transformers\n",
            "Successfully installed huggingface-hub-0.17.3 safetensors-0.4.0 tokenizers-0.14.1 transformers-4.35.1\n",
            "time: 17 s (started: 2023-11-15 16:37:05 +00:00)\n"
          ]
        }
      ]
    },
    {
      "cell_type": "markdown",
      "source": [
        "import os\n",
        "os.environ['DEEPGRAM_API_KEY'] = '7fbbf9565e1e5495ad045343f2428ae73632da23' #Sample Deepgramkey (this works!)"
      ],
      "metadata": {
        "id": "HS1OzHKE6oT4"
      }
    },
    {
      "cell_type": "code",
      "source": [
        "DEEPGRAM_API_KEY  = os.environ['DEEPGRAM_API_KEY']"
      ],
      "metadata": {
        "colab": {
          "base_uri": "https://localhost:8080/"
        },
        "collapsed": true,
        "id": "860EWN6d7JoZ",
        "outputId": "07146384-b4f7-46ea-b2c0-6cf8b4a4e173"
      },
      "execution_count": 29,
      "outputs": [
        {
          "output_type": "stream",
          "name": "stdout",
          "text": [
            "time: 574 µs (started: 2023-11-15 17:01:28 +00:00)\n"
          ]
        }
      ]
    },
    {
      "cell_type": "code",
      "source": [
        "!pip install sentencepiece"
      ],
      "metadata": {
        "colab": {
          "base_uri": "https://localhost:8080/"
        },
        "id": "Wc4ovz_OYR5v",
        "outputId": "43b322a7-d378-41c1-e7f0-d63fcfac65ff",
        "collapsed": true
      },
      "execution_count": 6,
      "outputs": [
        {
          "output_type": "stream",
          "name": "stdout",
          "text": [
            "Collecting sentencepiece\n",
            "  Downloading sentencepiece-0.1.99-cp310-cp310-manylinux_2_17_x86_64.manylinux2014_x86_64.whl (1.3 MB)\n",
            "\u001b[2K     \u001b[90m━━━━━━━━━━━━━━━━━━━━━━━━━━━━━━━━━━━━━━━━\u001b[0m \u001b[32m1.3/1.3 MB\u001b[0m \u001b[31m10.0 MB/s\u001b[0m eta \u001b[36m0:00:00\u001b[0m\n",
            "\u001b[?25hInstalling collected packages: sentencepiece\n",
            "Successfully installed sentencepiece-0.1.99\n",
            "time: 8.35 s (started: 2023-11-15 16:30:55 +00:00)\n"
          ]
        }
      ]
    },
    {
      "cell_type": "code",
      "source": [
        "!pip install faiss-cpu\n",
        "!pip install faiss-gpu"
      ],
      "metadata": {
        "id": "geMmTc3hvs4q",
        "colab": {
          "base_uri": "https://localhost:8080/"
        },
        "outputId": "daacfaaf-1311-448c-ce7f-a1169e250eb6",
        "collapsed": true
      },
      "execution_count": 13,
      "outputs": [
        {
          "output_type": "stream",
          "name": "stdout",
          "text": [
            "Collecting faiss-cpu\n",
            "  Downloading faiss_cpu-1.7.4-cp310-cp310-manylinux_2_17_x86_64.manylinux2014_x86_64.whl (17.6 MB)\n",
            "\u001b[2K     \u001b[90m━━━━━━━━━━━━━━━━━━━━━━━━━━━━━━━━━━━━━━━━\u001b[0m \u001b[32m17.6/17.6 MB\u001b[0m \u001b[31m64.8 MB/s\u001b[0m eta \u001b[36m0:00:00\u001b[0m\n",
            "\u001b[?25hInstalling collected packages: faiss-cpu\n",
            "Successfully installed faiss-cpu-1.7.4\n",
            "Collecting faiss-gpu\n",
            "  Downloading faiss_gpu-1.7.2-cp310-cp310-manylinux_2_17_x86_64.manylinux2014_x86_64.whl (85.5 MB)\n",
            "\u001b[2K     \u001b[90m━━━━━━━━━━━━━━━━━━━━━━━━━━━━━━━━━━━━━━━━\u001b[0m \u001b[32m85.5/85.5 MB\u001b[0m \u001b[31m10.2 MB/s\u001b[0m eta \u001b[36m0:00:00\u001b[0m\n",
            "\u001b[?25hInstalling collected packages: faiss-gpu\n",
            "Successfully installed faiss-gpu-1.7.2\n",
            "time: 26.7 s (started: 2023-11-15 16:37:22 +00:00)\n"
          ]
        }
      ]
    },
    {
      "cell_type": "code",
      "source": [
        "!pip install datasets"
      ],
      "metadata": {
        "id": "Nx7g4XV_VyOc",
        "colab": {
          "base_uri": "https://localhost:8080/"
        },
        "outputId": "8fc80af1-d572-4cc1-8a5e-5cc974f155b9",
        "collapsed": true
      },
      "execution_count": 15,
      "outputs": [
        {
          "output_type": "stream",
          "name": "stdout",
          "text": [
            "Collecting datasets\n",
            "  Downloading datasets-2.14.7-py3-none-any.whl (520 kB)\n",
            "\u001b[2K     \u001b[90m━━━━━━━━━━━━━━━━━━━━━━━━━━━━━━━━━━━━━━━━\u001b[0m \u001b[32m520.4/520.4 kB\u001b[0m \u001b[31m8.4 MB/s\u001b[0m eta \u001b[36m0:00:00\u001b[0m\n",
            "\u001b[?25hRequirement already satisfied: numpy>=1.17 in /usr/local/lib/python3.10/dist-packages (from datasets) (1.23.5)\n",
            "Requirement already satisfied: pyarrow>=8.0.0 in /usr/local/lib/python3.10/dist-packages (from datasets) (9.0.0)\n",
            "Collecting pyarrow-hotfix (from datasets)\n",
            "  Downloading pyarrow_hotfix-0.5-py3-none-any.whl (7.8 kB)\n",
            "Collecting dill<0.3.8,>=0.3.0 (from datasets)\n",
            "  Downloading dill-0.3.7-py3-none-any.whl (115 kB)\n",
            "\u001b[2K     \u001b[90m━━━━━━━━━━━━━━━━━━━━━━━━━━━━━━━━━━━━━━━━\u001b[0m \u001b[32m115.3/115.3 kB\u001b[0m \u001b[31m8.5 MB/s\u001b[0m eta \u001b[36m0:00:00\u001b[0m\n",
            "\u001b[?25hRequirement already satisfied: pandas in /usr/local/lib/python3.10/dist-packages (from datasets) (1.5.3)\n",
            "Requirement already satisfied: requests>=2.19.0 in /usr/local/lib/python3.10/dist-packages (from datasets) (2.31.0)\n",
            "Requirement already satisfied: tqdm>=4.62.1 in /usr/local/lib/python3.10/dist-packages (from datasets) (4.66.1)\n",
            "Requirement already satisfied: xxhash in /usr/local/lib/python3.10/dist-packages (from datasets) (3.4.1)\n",
            "Collecting multiprocess (from datasets)\n",
            "  Downloading multiprocess-0.70.15-py310-none-any.whl (134 kB)\n",
            "\u001b[2K     \u001b[90m━━━━━━━━━━━━━━━━━━━━━━━━━━━━━━━━━━━━━━━━\u001b[0m \u001b[32m134.8/134.8 kB\u001b[0m \u001b[31m8.3 MB/s\u001b[0m eta \u001b[36m0:00:00\u001b[0m\n",
            "\u001b[?25hRequirement already satisfied: fsspec[http]<=2023.10.0,>=2023.1.0 in /usr/local/lib/python3.10/dist-packages (from datasets) (2023.6.0)\n",
            "Requirement already satisfied: aiohttp in /usr/local/lib/python3.10/dist-packages (from datasets) (3.8.6)\n",
            "Requirement already satisfied: huggingface-hub<1.0.0,>=0.14.0 in /usr/local/lib/python3.10/dist-packages (from datasets) (0.17.3)\n",
            "Requirement already satisfied: packaging in /usr/local/lib/python3.10/dist-packages (from datasets) (23.2)\n",
            "Requirement already satisfied: pyyaml>=5.1 in /usr/local/lib/python3.10/dist-packages (from datasets) (6.0.1)\n",
            "Requirement already satisfied: attrs>=17.3.0 in /usr/local/lib/python3.10/dist-packages (from aiohttp->datasets) (23.1.0)\n",
            "Requirement already satisfied: charset-normalizer<4.0,>=2.0 in /usr/local/lib/python3.10/dist-packages (from aiohttp->datasets) (3.3.2)\n",
            "Requirement already satisfied: multidict<7.0,>=4.5 in /usr/local/lib/python3.10/dist-packages (from aiohttp->datasets) (6.0.4)\n",
            "Requirement already satisfied: async-timeout<5.0,>=4.0.0a3 in /usr/local/lib/python3.10/dist-packages (from aiohttp->datasets) (4.0.3)\n",
            "Requirement already satisfied: yarl<2.0,>=1.0 in /usr/local/lib/python3.10/dist-packages (from aiohttp->datasets) (1.9.2)\n",
            "Requirement already satisfied: frozenlist>=1.1.1 in /usr/local/lib/python3.10/dist-packages (from aiohttp->datasets) (1.4.0)\n",
            "Requirement already satisfied: aiosignal>=1.1.2 in /usr/local/lib/python3.10/dist-packages (from aiohttp->datasets) (1.3.1)\n",
            "Requirement already satisfied: filelock in /usr/local/lib/python3.10/dist-packages (from huggingface-hub<1.0.0,>=0.14.0->datasets) (3.13.1)\n",
            "Requirement already satisfied: typing-extensions>=3.7.4.3 in /usr/local/lib/python3.10/dist-packages (from huggingface-hub<1.0.0,>=0.14.0->datasets) (4.5.0)\n",
            "Requirement already satisfied: idna<4,>=2.5 in /usr/local/lib/python3.10/dist-packages (from requests>=2.19.0->datasets) (3.4)\n",
            "Requirement already satisfied: urllib3<3,>=1.21.1 in /usr/local/lib/python3.10/dist-packages (from requests>=2.19.0->datasets) (2.0.7)\n",
            "Requirement already satisfied: certifi>=2017.4.17 in /usr/local/lib/python3.10/dist-packages (from requests>=2.19.0->datasets) (2023.7.22)\n",
            "Requirement already satisfied: python-dateutil>=2.8.1 in /usr/local/lib/python3.10/dist-packages (from pandas->datasets) (2.8.2)\n",
            "Requirement already satisfied: pytz>=2020.1 in /usr/local/lib/python3.10/dist-packages (from pandas->datasets) (2023.3.post1)\n",
            "Requirement already satisfied: six>=1.5 in /usr/local/lib/python3.10/dist-packages (from python-dateutil>=2.8.1->pandas->datasets) (1.16.0)\n",
            "Installing collected packages: pyarrow-hotfix, dill, multiprocess, datasets\n",
            "Successfully installed datasets-2.14.7 dill-0.3.7 multiprocess-0.70.15 pyarrow-hotfix-0.5\n",
            "time: 7.55 s (started: 2023-11-15 16:37:58 +00:00)\n"
          ]
        }
      ]
    },
    {
      "cell_type": "code",
      "source": [
        "!pip install sacremoses"
      ],
      "metadata": {
        "colab": {
          "base_uri": "https://localhost:8080/"
        },
        "id": "ksscmA5pKcj1",
        "outputId": "8c14b24c-bbea-4617-cab9-c6b70df04c8a",
        "collapsed": true
      },
      "execution_count": 14,
      "outputs": [
        {
          "output_type": "stream",
          "name": "stdout",
          "text": [
            "Collecting sacremoses\n",
            "  Downloading sacremoses-0.1.1-py3-none-any.whl (897 kB)\n",
            "\u001b[2K     \u001b[90m━━━━━━━━━━━━━━━━━━━━━━━━━━━━━━━━━━━━━━━━\u001b[0m \u001b[32m897.5/897.5 kB\u001b[0m \u001b[31m8.2 MB/s\u001b[0m eta \u001b[36m0:00:00\u001b[0m\n",
            "\u001b[?25hRequirement already satisfied: regex in /usr/local/lib/python3.10/dist-packages (from sacremoses) (2023.6.3)\n",
            "Requirement already satisfied: click in /usr/local/lib/python3.10/dist-packages (from sacremoses) (8.1.7)\n",
            "Requirement already satisfied: joblib in /usr/local/lib/python3.10/dist-packages (from sacremoses) (1.3.2)\n",
            "Requirement already satisfied: tqdm in /usr/local/lib/python3.10/dist-packages (from sacremoses) (4.66.1)\n",
            "Installing collected packages: sacremoses\n",
            "Successfully installed sacremoses-0.1.1\n",
            "time: 9.56 s (started: 2023-11-15 16:37:49 +00:00)\n"
          ]
        }
      ]
    },
    {
      "cell_type": "code",
      "source": [
        "!pip install nltk"
      ],
      "metadata": {
        "colab": {
          "base_uri": "https://localhost:8080/"
        },
        "collapsed": true,
        "id": "_cNKyNKzPpoz",
        "outputId": "29af17c9-cb98-42fe-e7f8-cd4c72f8ebf5"
      },
      "execution_count": 16,
      "outputs": [
        {
          "output_type": "stream",
          "name": "stdout",
          "text": [
            "Requirement already satisfied: nltk in /usr/local/lib/python3.10/dist-packages (3.8.1)\n",
            "Requirement already satisfied: click in /usr/local/lib/python3.10/dist-packages (from nltk) (8.1.7)\n",
            "Requirement already satisfied: joblib in /usr/local/lib/python3.10/dist-packages (from nltk) (1.3.2)\n",
            "Requirement already satisfied: regex>=2021.8.3 in /usr/local/lib/python3.10/dist-packages (from nltk) (2023.6.3)\n",
            "Requirement already satisfied: tqdm in /usr/local/lib/python3.10/dist-packages (from nltk) (4.66.1)\n",
            "time: 8.74 s (started: 2023-11-15 16:38:06 +00:00)\n"
          ]
        }
      ]
    },
    {
      "cell_type": "markdown",
      "source": [
        "###**Deepgram Whisper API Supported Languages**"
      ],
      "metadata": {
        "id": "ZgVcWpfR71FT"
      }
    },
    {
      "cell_type": "code",
      "source": [
        "supported_languages_dict  = {\n",
        "    'english': 'en', 'chinese': 'zh', 'german': 'de', 'spanish': 'es', 'russian': 'ru',\n",
        "    'korean': 'ko', 'french': 'fr', 'japanese': 'ja', 'portuguese': 'pt', 'turkish': 'tr',\n",
        "    'polish': 'pl', 'catalan': 'ca', 'dutch': 'nl', 'arabic': 'ar', 'swedish': 'sv',\n",
        "    'italian': 'it', 'indonesian': 'id', 'hindi': 'hi', 'finnish': 'fi', 'vietnamese': 'vi',\n",
        "    'hebrew': 'he', 'ukrainian': 'uk', 'greek': 'el', 'malay': 'ms', 'czech': 'cs',\n",
        "    'romanian': 'ro', 'danish': 'da', 'hungarian': 'hu', 'tamil': 'ta', 'norwegian': 'no',\n",
        "    'thai': 'th', 'urdu': 'ur', 'croatian': 'hr', 'bulgarian': 'bg', 'lithuanian': 'lt',\n",
        "    'latin': 'la', 'maori': 'mi', 'malayalam': 'ml', 'welsh': 'cy', 'slovak': 'sk',\n",
        "    'telugu': 'te', 'persian': 'fa', 'latvian': 'lv', 'bengali': 'bn', 'serbian': 'sr',\n",
        "    'azerbaijani': 'az', 'slovenian': 'sl', 'kannada': 'kn', 'estonian': 'et',\n",
        "    'macedonian': 'mk', 'breton': 'br', 'basque': 'eu', 'icelandic': 'is', 'armenian': 'hy',\n",
        "    'nepali': 'ne', 'mongolian': 'mn', 'bosnian': 'bs', 'kazakh': 'kk', 'albanian': 'sq',\n",
        "    'swahili': 'sw', 'galician': 'gl', 'marathi': 'mr', 'punjabi': 'pa', 'sinhalese': 'si',\n",
        "    'khmer': 'km', 'shona': 'sn', 'yoruba': 'yo', 'somali': 'so', 'afrikaans': 'af',\n",
        "    'occitan': 'oc', 'georgian': 'ka', 'belarusian': 'be', 'tajik': 'tg', 'sindhi': 'sd',\n",
        "    'gujarati': 'gu', 'amharic': 'am', 'yiddish': 'yi', 'lao': 'lo', 'uzbek': 'uz',\n",
        "    'faroese': 'fo', 'haitian creole': 'ht', 'pashto': 'ps', 'turkmen': 'tk',\n",
        "    'norwegian nynorsk': 'nn', 'maltese': 'mt', 'sanskrit': 'sa', 'luxembourgish': 'lb',\n",
        "    'burmese': 'my', 'tibetan': 'bo', 'malagasy': 'mg', 'assamese': 'as', 'tatar': 'tt',\n",
        "    'hawaiian': 'haw', 'lingala': 'ln', 'hausa': 'ha', 'bashkir': 'ba', 'javanese': 'jw',\n",
        "    'sundanese': 'su'\n",
        "}\n"
      ],
      "metadata": {
        "collapsed": true,
        "colab": {
          "base_uri": "https://localhost:8080/"
        },
        "id": "IfeWkpwsakzY",
        "outputId": "f19b3a6b-ee88-4f09-c519-a205781f87fe"
      },
      "execution_count": 82,
      "outputs": [
        {
          "output_type": "stream",
          "name": "stdout",
          "text": [
            "time: 2.74 ms (started: 2023-11-15 19:17:02 +00:00)\n"
          ]
        }
      ]
    },
    {
      "cell_type": "markdown",
      "source": [
        "##**Enter File (Audio/Video)**"
      ],
      "metadata": {
        "id": "nR148aIK8kn7"
      }
    },
    {
      "cell_type": "code",
      "source": [
        "file_path = 'Please Load your Audio/Video File and give the correct file path here'\n",
        "\n",
        "#example url\n",
        "#file_path = \"https://github.com/ramsrigouthamg/Supertranslate.ai/raw/main/Deepgram_Whisper_Transcription/ps1_English.mp4\""
      ],
      "metadata": {
        "colab": {
          "base_uri": "https://localhost:8080/"
        },
        "collapsed": true,
        "id": "-r7feF4O8j76",
        "outputId": "1d815efe-1e01-4d27-ee11-66453a9ad2a7"
      },
      "execution_count": 68,
      "outputs": [
        {
          "output_type": "stream",
          "name": "stdout",
          "text": [
            "time: 618 µs (started: 2023-11-15 18:13:46 +00:00)\n"
          ]
        }
      ]
    },
    {
      "cell_type": "markdown",
      "source": [
        "###**Converting The File To .wav format**"
      ],
      "metadata": {
        "id": "hZankT879Y3z"
      }
    },
    {
      "cell_type": "code",
      "source": [
        "from pydub import AudioSegment\n",
        "from moviepy.editor import VideoFileClip\n",
        "import os\n",
        "import tempfile\n",
        "import requests\n",
        "from io import BytesIO\n",
        "def convert_to_wav(input_path, output_path):\n",
        "\n",
        "    is_url = input_path.startswith('http') or input_path.startswith('https')\n",
        "    #If url\n",
        "    if is_url:\n",
        "        response = requests.get(input_path)\n",
        "        response.raise_for_status()  # Raise an error for unsuccessful HTTP responses\n",
        "        content = BytesIO(response.content)\n",
        "        temp_file = tempfile.NamedTemporaryFile(delete=False)\n",
        "        temp_file.write(content.read())\n",
        "        content_path = temp_file.name\n",
        "        temp_file.close()\n",
        "    else:\n",
        "        content_path = input_path\n",
        "\n",
        "    _, file_extension = os.path.splitext(input_path.lower())\n",
        "\n",
        "    #Audio file\n",
        "    if file_extension in ['.mp3', '.wav', '.ogg', '.flac']:\n",
        "        audio = AudioSegment.from_file(content_path)\n",
        "    #Video File\n",
        "    elif file_extension in ['.mp4', '.mkv', '.avi', '.mov']:\n",
        "        video_clip = VideoFileClip(content_path)\n",
        "        audio_temp_path = tempfile.mktemp('.wav')  # create a temp .wav file\n",
        "        video_clip.audio.write_audiofile(audio_temp_path)  # write audio to the temp file\n",
        "        audio = AudioSegment.from_wav(audio_temp_path)  # load audio with AudioSegment\n",
        "        video_clip.close()\n",
        "    else:\n",
        "        raise ValueError(\"Unsupported file format. Supported formats: mp3, wav, ogg, flac, mp4, mkv, avi, mov.\")\n",
        "\n",
        "    # Convert to WAV format\n",
        "    audio.export(output_path, format=\"wav\")\n",
        "\n",
        "\n",
        "output_wav_file_path = 'file.wav' #Feel free to change the name of the .wav file\n",
        "print(f\"Created a .wav file named {output_wav_file_path}\")\n",
        "\n",
        "convert_to_wav(file_path, output_wav_file_path)"
      ],
      "metadata": {
        "colab": {
          "base_uri": "https://localhost:8080/"
        },
        "collapsed": true,
        "id": "TgqwjVA29X7t",
        "outputId": "2591a869-0a27-40f8-fa25-0172dafd8e9f"
      },
      "execution_count": 69,
      "outputs": [
        {
          "output_type": "stream",
          "name": "stdout",
          "text": [
            "Created a .wav file named file.wav\n",
            "time: 3.05 s (started: 2023-11-15 18:13:49 +00:00)\n"
          ]
        }
      ]
    },
    {
      "cell_type": "markdown",
      "source": [
        "####**Deepgram Whisper (Large) For Transcribing Audio/Video In Different Languages**"
      ],
      "metadata": {
        "id": "61DaCeU876S9"
      }
    },
    {
      "cell_type": "code",
      "source": [
        "#Function Which Calls the Deepgram Whisper To Transcribe\n",
        "from pydub import AudioSegment\n",
        "import requests\n",
        "def getDeepgramTranscription(file_path, lang_code=\"en\"):\n",
        "\n",
        "    url = f\"https://api.deepgram.com/v1/listen?model=whisper-large&language={lang_code}&punctuate=true&diarize=true&smart_format=true\"\n",
        "\n",
        "    headers = {\n",
        "        \"Authorization\": 'Token ' + DEEPGRAM_API_KEY,\n",
        "    }\n",
        "\n",
        "    with open(file_path, 'rb') as audio_file:\n",
        "        data = audio_file.read()\n",
        "        response = requests.post(url, headers=headers, data=data)\n",
        "\n",
        "    output = response.json()\n",
        "    return output"
      ],
      "metadata": {
        "colab": {
          "base_uri": "https://localhost:8080/"
        },
        "id": "8AXvoZ6Oon8t",
        "outputId": "89f82911-63ce-4f88-bcdc-eff7078c46bb"
      },
      "execution_count": 70,
      "outputs": [
        {
          "output_type": "stream",
          "name": "stdout",
          "text": [
            "time: 1.04 ms (started: 2023-11-15 18:13:55 +00:00)\n"
          ]
        }
      ]
    },
    {
      "cell_type": "markdown",
      "source": [
        "###**Enter The Language To Transcribe**\n",
        "\n",
        "The Default Is Set to English"
      ],
      "metadata": {
        "id": "OQbijwIq-gc6"
      }
    },
    {
      "cell_type": "code",
      "source": [
        "#Input Language To Translate\n",
        "language = input(\"Enter The Language You Want To Transcribe ? : \") #Spanish,French,German\n",
        "\n",
        "flag = 0\n",
        "\n",
        "#check for supported language\n",
        "for lang in supported_languages_dict.keys():\n",
        "  if lang == language.lower():\n",
        "    print(f\"Yes!!...{lang} is a supported Language!\")\n",
        "\n",
        "    lang_code = supported_languages_dict[lang][:2]\n",
        "    output = getDeepgramTranscription(output_wav_file_path,lang_code)\n",
        "    flag = 1\n",
        "    break\n",
        "\n",
        "if flag != 1:\n",
        "  print(\"Didnt Find the Language...Please Check the spelling or use supported Languages\\n Default Langauge is set to English\")\n",
        "  output = getDeepgramTranscription(output_wav_file_path,\"en\")"
      ],
      "metadata": {
        "colab": {
          "base_uri": "https://localhost:8080/"
        },
        "id": "FNoyscqV_3NB",
        "outputId": "c64124de-e564-4b47-9ce2-8946cd3ec893",
        "collapsed": true
      },
      "execution_count": 71,
      "outputs": [
        {
          "output_type": "stream",
          "name": "stdout",
          "text": [
            "Enter The Language You Want To Transcribe ? : German\n",
            "Yes!!...german is a supported Language!\n",
            "time: 52.3 s (started: 2023-11-15 18:13:57 +00:00)\n"
          ]
        }
      ]
    },
    {
      "cell_type": "markdown",
      "source": [
        "##Print Transcribed Text using Deepgrams Whisper"
      ],
      "metadata": {
        "id": "N5uWXOs9L5tp"
      }
    },
    {
      "cell_type": "code",
      "source": [
        "from pprint import pprint\n",
        "transcribed_txt = output['results']['channels'][0]['alternatives'][0]['transcript']\n",
        "\n",
        "#gives the transcribed text in a more viewable fashion\n",
        "\n",
        "pprint(output['results']['channels'][0]['alternatives'][0]['transcript'])"
      ],
      "metadata": {
        "id": "fPCT_2Cr_tX_",
        "colab": {
          "base_uri": "https://localhost:8080/"
        },
        "outputId": "d49028a1-7ed9-4b87-8468-98ecb02dd9cb",
        "collapsed": true
      },
      "execution_count": 72,
      "outputs": [
        {
          "output_type": "stream",
          "name": "stdout",
          "text": [
            "('Hallo und willkommen zu Galata Plus. In diesem Episode sprechen wir über '\n",
            " 'Manirathams PS1, Ponin Selvan 1, die auf der Basis von Kalki Krishnamurtis '\n",
            " 'Novel und den Filmstars Karthi, Vikram, Jaim Ravi, Trisha, Aishwarya Rai, '\n",
            " 'Jairam und ein ganzes Team von anderen steht. Buch Adaptationen sind sehr '\n",
            " 'seltsame Wurzeln und in meiner Meinung ist der einzige Weg, einen Film auf '\n",
            " 'dem Grunde eines Buches zu genießen, ist, den Buch zu vergessen. Natürlich '\n",
            " 'ist das unmöglich, weil der Buch bereits in deiner Hüfte ist und der Buch in '\n",
            " 'deiner Erinnerung eingeprint ist. Aber was ich meine bei dem Wort vergessen, '\n",
            " 'ist einfach nur das, vergiss den Fakt, dass du den exakten Buch bekommen '\n",
            " 'wirst. Einer meiner Lieblingsbuch-zu-Film-Adaptationen ist Guide, der einer '\n",
            " 'der größten Hits von Dev Anand wurde, mit großartigen S.D. Bermann-Songen, '\n",
            " 'einer tollen und wunderschönen Vahida Rehman und einer superben Direktion '\n",
            " 'von Vijay Anand. Aber R.K. Narayan, der Autor des originalen Buches, hat den '\n",
            " 'Film verhatet. Er hat den Film verhatet, verhatet, verhatet. Er nannte den '\n",
            " 'Film den Bastard-Ursprung meines Novels, aber was er nicht verstanden, war, '\n",
            " 'dass der Film nicht sein Novel war. Der Film war nicht R.K. Narayans Guide, '\n",
            " 'sondern die Version von R.K. Narayans Guide von Filmmacher Vijay Anand. Ich '\n",
            " 'erinnere mich an dieses Unfall, als Poni & Selvan endlich nach Jahrzehnten '\n",
            " 'von verschiedenen Leuten nach dem Ziel gekommen sind. Und ich denke, der '\n",
            " 'Autor Kalki Krishnamurthy wäre sehr glücklich gewesen, wenn es die Version '\n",
            " 'von Kalkis Ponenselvan von Mani Ratnam gäbe. Der Film verändert ein Buch in '\n",
            " 'einen unheimlich schönen Film, und ich rede nicht nur über Ravivarmans '\n",
            " 'Stimmung nach Stimmung, das mit einem feuchten Vikram aus einem Mist '\n",
            " 'entsteht, sondern auch die Schrift von Mani Ratnam, Ilango Kumaravel und '\n",
            " 'B.J. Mohan. Es gibt ein frühes Visuellen der Pandya-Flagge, die in zwei '\n",
            " 'Stücke geschlissen wird und eine halbe fluttert in das nächste Stück '\n",
            " 'Narrativ. Das ist der Geist von Poni in Selvan, Teil 1. Das Buch wurde '\n",
            " 'geschlachtet und die Seiten und Bilder flüchten von einem Stück der '\n",
            " 'Ausstellung zu einem anderen. Nehmt den Charakter der Boatwoman, Pungarelli, '\n",
            " 'gespielt von Aishwarya Lakshmi. Kalki introduziert sie während des '\n",
            " 'Sonnenspiels, als sie eine Lied singt, die so süß ist, dass die Natur still '\n",
            " 'steht. Die Musik in dem Film, geschrieben von Shiva Anand, ist nicht die '\n",
            " 'gleiche Musik, die Poongurli in dem Buch singt, aber sie beginnt mit dem '\n",
            " 'selben Wort, Alai Kadal, und A. R. Rahmans Musik perfekt zeigt, was Kalki '\n",
            " 'als die Inbewedene, oder die süße Träume, in Poongurlis Stimme nennt. Wir '\n",
            " 'sehen hier keine anderen Dinge aus dem Buch. Wir sehen Pungurli nicht, der '\n",
            " 'Vandya Devan aus der Kuhgasse rettet. Wir sehen nicht, wie sein Gesicht wie '\n",
            " 'ein Auge aussieht, das die Verwunderung verursacht. Wir sehen ihn nicht, der '\n",
            " 'Vater von seinem Wunsch, über den Ozean zu fahren, zu Sri Lanka zu bringen. '\n",
            " 'Wir sehen nicht, dass sie sich auf dem Boot umbringen und sie in die See '\n",
            " 'springt, ihn zu retten. Aber das Bild, das wir bekommen, gibt uns einen Sinn '\n",
            " 'dafür. Wir sehen sie, wie ein Mermaid, aus dem See auszudrücken. Und er ist '\n",
            " 'bereits auf dem Boot, obwohl er bereits in einer früheren Szene '\n",
            " 'verabschiedet hat, dass er Angst vor Wasser hat. Das ist, was ich meine, im '\n",
            " 'Grunde. In einer Art sprechen wir über Maniratnams Auffassung in '\n",
            " 'Chakrachyavanavanam, wo Charaktere und Situationen auf uns mit Intensität '\n",
            " 'und schwerer Wirtschaft auf uns geworfen wurden. Dieser Film hat mir nicht '\n",
            " 'gut gelungen, aber hier funktioniert diese hochwertige, surreale Auffassung '\n",
            " 'wunderschön. Die spielfreie Szene, in der Karthi mit Jayaram trifft, die '\n",
            " 'intensive Konversation zwischen Trisha und Vikram, Die tragischen Tränen, '\n",
            " 'die in Aishwarya Rai Bachchans Auge wachsen, wenn sie den Namen eines '\n",
            " 'ehemaligen Liebenden hört. Eine folgende Szene zwischen ihr und Karthi, wo '\n",
            " 'wir ihr manipulativer Seite sehen. Die Szene, in der Jaya Chitra Rahman von '\n",
            " 'seinem Pflichten erinnert. Die flirtausende Szene zwischen Trisha und '\n",
            " 'Karthi, die seduktive Szene zwischen Aishwarya und Sarath Kumar, die '\n",
            " 'nonverbalen Katastrophen zwischen Aishwarya und Trisha, die Boys will be '\n",
            " 'Boys Szene, wo Karthi und Jaim Ravi treffen, die Szene mit Trishas hilreisen '\n",
            " 'politischen Bewegungen, die zeigen, dass die Männer vielleicht direkt auf '\n",
            " 'Schemern sind, aber es sind die Frauen, die die deviössten Schemern sind. '\n",
            " 'Und sie bewegen diese Geschichte mit ihrem Agenda. In anderen Worten, jeder '\n",
            " 'Charakter hat eine starke Szene oder drei, wo seine Essenz erstellt ist. Ein '\n",
            " 'Teil von mir wünschte sich einen 10-Stunden-Film, aber gegeben 2 Stunden und '\n",
            " '45 Minuten, gibt es wirklich keinen anderen Weg, die Geschichte auf der '\n",
            " 'Bühne zu erzählen. Und das große Plus ist, Mani Ratnam, den Direktor, in '\n",
            " 'gläubiger Form mit seinem fantastischen technischen Team zu sehen. Tota '\n",
            " 'Tarani handelt das Produktionsdesign, Shrikar Prasad ist der Editor und der '\n",
            " 'Kinemakinister Ravi Varman füllt das Bild mit Farben. Von der Blüte der '\n",
            " 'Seen, bis hin zu den Braunen der Erde. Von den monochromen, dunklen, rosa '\n",
            " 'Interiors eines Königskammer bis hin zu den allausweiten, rainbunten Farben '\n",
            " 'von Raja Sammamane. Das ist ein Film mit konstantem Bewegungsverhalten. Es '\n",
            " 'sind entweder die Kämpfe oder die Kämpfe oder die nieendings endgültigen '\n",
            " 'Mindgames, die sich im Narrativ wie ein schmutziger Schlangenkrebs umdrehen. '\n",
            " 'Könnten die ARR-Mann-Songe vollkommen ausgerutscht werden, mehr Narrativ zu '\n",
            " 'machen? Ich liebe die Abwechslung von Vikrams emotionalen Erkennung zu der '\n",
            " 'getrunkenen Erkennung von Chora Chora. Ich liebe, dass ein langer '\n",
            " 'Comic-Rundgang, in dem Kathi beteiligt ist, einen Abwechslung zu der '\n",
            " 'spielfreien Rache-Samavanee gibt. Aber gegebenenfalls hätte ich die Songs '\n",
            " 'gerne verwendet, die durch mehr Interaktion zwischen den Charaktern '\n",
            " 'verwendet wurden oder vielleicht mehr Zeit für die Aktionszenen. Im Moment '\n",
            " 'sehen sie sich wie verkleidete Versionen von längeren Aktionsblocken aus, '\n",
            " 'aber dann haben wir die Bücher. Außerdem ist diese Geschichte von '\n",
            " 'politischer Intrigue bemerkenswert nach dem heutigen Tag, wo politische '\n",
            " 'Gruppen zusammenkommen, zusammenbanden und verbreiten, so wie es ihnen '\n",
            " 'passt. Also braucht es nicht viel Ausdruck. Außer für die Kostüme und die '\n",
            " 'Sprache, das ist ein sehr kontemporäres Narrativ über einen leeren König, '\n",
            " 'Sundarachola, gespielt von Prakash Raj und seine drei Kinder. Wiederum haben '\n",
            " 'wir Schatten von Chekachewanam. Anstatt uns mit Epikität zu verleeren, geht '\n",
            " 'Maniratnam alles aus dem All real. Es gibt keine Masken-Dialoge, die Witze '\n",
            " 'werden kasuell ausgetauscht, die verblüffenden Konfrontationen werden in '\n",
            " 'gleichem Ton vermittelt und sogar die Kämpfe werden als Spektakel aufgrund '\n",
            " 'des Spektakels aufgestellt. Manche sind wie die leckeren, einfachen '\n",
            " 'Schwertkämpfe, die wir in den MGR-Filmen gesehen haben. Und alle Akteure '\n",
            " 'sind fantastisch, besonders Vikram, Aishwarya, Trisha und Karthi, obwohl '\n",
            " 'Jairam wahrscheinlich die Show in einem komischen Role mit Schriftstücken '\n",
            " 'stehlen würde. Wenn Karthi und Jairam große Leistungen geben, weil ihre '\n",
            " 'Rolle so sind, sind sie von den anderen gut minimalistisch ausgewertet. '\n",
            " 'Jaiyam Ravi verwendet so wenig, so viel zu verbreiten, und Es ist wirklich '\n",
            " 'schwer, einen guten Mann auf dem Bildschirm zu porträtieren, ohne ihn zu '\n",
            " 'erscheinen. Und die Enderleitung eines berühmten Minors in dem Buch ist '\n",
            " 'großartig. Diese charaktergeführte erste Stelle setzt perfekt die Bühne für '\n",
            " 'die zweite Einstellung auf, die jetzt den Boden aufbauen kann. Außerdem '\n",
            " 'zeigt sie, wie eine riesige Novelle überzeugend kondensiert werden kann, das '\n",
            " 'ist das größte Erreichtum dieses Films. Und das war es von Puneen Selvan '\n",
            " 'Part 1. Wenn euch diese Review gefallen hat, abonniert Galata Plus und wir '\n",
            " 'sehen uns bald bei den Filmen. Apart from showing how a huge novel can be '\n",
            " \"convincingly condensed, that is this film's biggest achievement. And that's \"\n",
            " 'it about Pony in Ceylon part 1. If you liked this review, do subscribe to '\n",
            " 'Galata Plus and see you soon at the movies. SWR 2021')\n",
            "time: 28.3 ms (started: 2023-11-15 18:14:50 +00:00)\n"
          ]
        }
      ]
    },
    {
      "cell_type": "markdown",
      "source": [
        "#**Combining To Create Models**"
      ],
      "metadata": {
        "id": "XCKVDsIlgVsX"
      }
    },
    {
      "cell_type": "markdown",
      "source": [
        "####Transformer Libraries (RAG)"
      ],
      "metadata": {
        "id": "n0IQWHKW_DXL"
      }
    },
    {
      "cell_type": "code",
      "source": [
        "#importing libraries\n",
        "from transformers import BartTokenizer, BartForConditionalGeneration, MarianMTModel, MarianTokenizer\n",
        "import nltk\n",
        "nltk.download('punkt')\n",
        "from transformers import BartTokenizer, BartForConditionalGeneration"
      ],
      "metadata": {
        "colab": {
          "base_uri": "https://localhost:8080/"
        },
        "id": "OJ6Q2OTJCHNp",
        "outputId": "2b1f6cc6-3173-4e19-ba69-8f8ef0a3560b",
        "collapsed": true
      },
      "execution_count": 73,
      "outputs": [
        {
          "output_type": "stream",
          "name": "stdout",
          "text": [
            "time: 75.1 ms (started: 2023-11-15 18:16:12 +00:00)\n"
          ]
        },
        {
          "output_type": "stream",
          "name": "stderr",
          "text": [
            "[nltk_data] Downloading package punkt to /root/nltk_data...\n",
            "[nltk_data]   Package punkt is already up-to-date!\n"
          ]
        }
      ]
    },
    {
      "cell_type": "markdown",
      "source": [
        "##**Multilingual Model Which Generated Summary And Translations Of Transcribed Text**"
      ],
      "metadata": {
        "id": "dlJ-jCSH_J_R"
      }
    },
    {
      "cell_type": "code",
      "source": [
        "#Supported Languages\n",
        "supported_model_langs = {\n",
        "    'english': 'en', 'chinese': 'zh', 'german': 'de', 'spanish': 'es', 'russian': 'ru',\n",
        "    'korean': 'ko', 'french': 'fr', 'japanese': 'ja', 'portuguese': 'pt', 'turkish': 'tr',\n",
        "    'polish': 'pl', 'catalan': 'ca', 'dutch': 'nl', 'arabic': 'ar', 'swedish': 'sv',\n",
        "    'italian': 'it', 'indonesian': 'id', 'hindi': 'hi', 'finnish': 'fi', 'vietnamese': 'vi',\n",
        "    'hebrew': 'he', 'ukrainian': 'uk', 'greek': 'el', 'malay': 'ms', 'czech': 'cs',\n",
        "    'romanian': 'ro', 'danish': 'da', 'hungarian': 'hu', 'tamil': 'ta', 'norwegian': 'no',\n",
        "    'thai': 'th', 'urdu': 'ur', 'croatian': 'hr', 'bulgarian': 'bg', 'lithuanian': 'lt',\n",
        "    'latin': 'la', 'maori': 'mi', 'malayalam': 'ml', 'welsh': 'cy', 'slovak': 'sk',\n",
        "    'telugu': 'te', 'persian': 'fa', 'latvian': 'lv', 'bengali': 'bn', 'serbian': 'sr',\n",
        "    'azerbaijani': 'az', 'slovenian': 'sl', 'kannada': 'kn', 'estonian': 'et',\n",
        "    'macedonian': 'mk', 'breton': 'br', 'basque': 'eu', 'icelandic': 'is', 'armenian': 'hy',\n",
        "    'nepali': 'ne', 'mongolian': 'mn', 'bosnian': 'bs', 'kazakh': 'kk', 'albanian': 'sq',\n",
        "    'swahili': 'sw', 'galician': 'gl', 'marathi': 'mr', 'punjabi': 'pa', 'sinhalese': 'si',\n",
        "    'khmer': 'km', 'shona': 'sn', 'yoruba': 'yo', 'somali': 'so', 'afrikaans': 'af',\n",
        "    'occitan': 'oc', 'georgian': 'ka', 'belarusian': 'be', 'tajik': 'tg', 'sindhi': 'sd',\n",
        "    'gujarati': 'gu', 'amharic': 'am', 'yiddish': 'yi', 'lao': 'lo', 'uzbek': 'uz',\n",
        "    'faroese': 'fo', 'haitian creole': 'ht', 'pashto': 'ps', 'turkmen': 'tk',\n",
        "    'norwegian nynorsk': 'nn', 'maltese': 'mt', 'sanskrit': 'sa', 'luxembourgish': 'lb',\n",
        "    'burmese': 'my', 'tibetan': 'bo', 'malagasy': 'mg', 'assamese': 'as', 'tatar': 'tt',\n",
        "    'hawaiian': 'haw', 'lingala': 'ln', 'hausa': 'ha', 'bashkir': 'ba', 'javanese': 'jw',\n",
        "    'sundanese': 'su'\n",
        "}\n",
        "\n",
        "#Function To divide text into chunks\n",
        "def chunk_text(text, max_length):\n",
        "    sentences = nltk.sent_tokenize(text)\n",
        "    chunks = []\n",
        "    chunk = \"\"\n",
        "    for sentence in sentences:\n",
        "        if len(chunk) + len(sentence) <= max_length:\n",
        "            chunk += \" \" + sentence\n",
        "        else:\n",
        "            chunks.append(chunk)\n",
        "            chunk = sentence\n",
        "    chunks.append(chunk)\n",
        "    return chunks\n",
        "\n",
        "# Function to perform summarization\n",
        "def summarize(text,model,tokenizer):\n",
        "    inputs = tokenizer([text], max_length=512, return_tensors='pt')\n",
        "    summary_ids = model.generate(inputs['input_ids'], num_beams=4, max_length=150, early_stopping=True)\n",
        "    return [tokenizer.decode(g, skip_special_tokens=True, clean_up_tokenization_spaces=False) for g in summary_ids]\n",
        "\n",
        "# Function to perform translation\n",
        "def translate(text,model,tokenizer):\n",
        "    translated = model.generate(**tokenizer.prepare_seq2seq_batch(text, return_tensors=\"pt\"))\n",
        "    return [tokenizer.decode(t, skip_special_tokens=True) for t in translated]\n",
        "\n",
        "#Model\n",
        "def multilingual_model(text,source_text_language,target_language,max_token_length = 512):\n",
        "  '''--------------------------------------------------SUMMARIZATION  PART------------------------------------------------------\n",
        "  '''\n",
        "  text_for_summary = text\n",
        "  text_copy = text\n",
        "  chunks1 = chunk_text(text, max_length=1024)\n",
        "  chunks2 = chunk_text(text_copy, max_length=1024)\n",
        "\n",
        "  #Using BART LARGE MODEL FOR SUMMARIZTION\n",
        "  summary_model_name = 'facebook/bart-large-cnn'\n",
        "  summary_model = BartForConditionalGeneration.from_pretrained(summary_model_name)\n",
        "  summary_tokenizer = BartTokenizer.from_pretrained(summary_model_name)\n",
        "  summary_list = [summarize(chunk,summary_model,summary_tokenizer) for chunk in chunks1]\n",
        "\n",
        "  summary_string = \"\".join(i[0] for i in summary_list)\n",
        "\n",
        "  print(\"-----------------------------Summarization Done... Working on Translation------------------------------\")\n",
        "\n",
        "  '''--------------------------------------------------TRANSLATION PART------------------------------------------------------\n",
        "  '''\n",
        "\n",
        "  lang_code_source = \"\"\n",
        "  lang_code_to_translate = \"\"\n",
        "\n",
        "  flag= 0\n",
        "\n",
        "  #Fetching the transcribed text language code\n",
        "  lang_code_source = supported_model_langs[language.lower()][:2]\n",
        "\n",
        "  #Check if given target language code exists in the supported languages\n",
        "  for lang in supported_model_langs.keys():\n",
        "    if lang == target_language.lower():\n",
        "      print(f\"Yes!!...{lang} is a supported Language!\")\n",
        "      lang_code_to_translate = supported_languages_dict[lang][:2]\n",
        "      flag = 1\n",
        "      break\n",
        "  #else default is set to English (en)\n",
        "  if flag != 1:\n",
        "    print(\"Didnt Find the Language...Please Check the spelling or use supported Languages\\n Default Langauge is set to English\")\n",
        "    lang_code_to_translate = \"en\"\n",
        "\n",
        "\n",
        "  print(f'-----------------------------Translating {source_text_language} to {target_language}-----------------------------\\n')\n",
        "  text_for_translation = text\n",
        "  # translation_model_name = f\"Helsinki-NLP/opus-mt-{lang_code_source}-{lang_code_to_translate}\"\n",
        "  print(f\"--------------------------------Model Name : Helsinki-NLP/opus-mt-{lang_code_source}-{lang_code_to_translate}------------------------------------------\")\n",
        "\n",
        "  #Using MARIANA MT Model For Translation Tasks\n",
        "  translation_model = MarianMTModel.from_pretrained(f'Helsinki-NLP/opus-mt-{lang_code_source}-{lang_code_to_translate}')\n",
        "  translation_tokenizer = MarianTokenizer.from_pretrained(f'Helsinki-NLP/opus-mt-{lang_code_source}-{lang_code_to_translate}')\n",
        "\n",
        "  translations_list = [translate(chunk,translation_model,translation_tokenizer) for chunk in chunks2]\n",
        "\n",
        "\n",
        "  #Appending All the translated chunks\n",
        "  translation_string = \"\"\n",
        "  for translation in translations_list:\n",
        "    translation_string += translation[0]\n",
        "\n",
        "\n",
        "\n",
        "  print(\"-----------------------------Translation Done... Fetching Results------------------------------\")\n",
        "\n",
        "  return [summary_string,translation_string]\n"
      ],
      "metadata": {
        "colab": {
          "base_uri": "https://localhost:8080/"
        },
        "id": "mBhwWkVygaeb",
        "outputId": "101e5fdb-37b2-4a05-8f24-33b7cbad6053",
        "collapsed": true
      },
      "execution_count": 74,
      "outputs": [
        {
          "output_type": "stream",
          "name": "stdout",
          "text": [
            "time: 2.7 ms (started: 2023-11-15 18:16:14 +00:00)\n"
          ]
        }
      ]
    },
    {
      "cell_type": "code",
      "source": [
        "#print(transcribed_txt)"
      ],
      "metadata": {
        "colab": {
          "base_uri": "https://localhost:8080/"
        },
        "id": "fdIcynYfABWr",
        "outputId": "cf948e9a-b82c-418b-fc8a-b9f5e6ff7b7d",
        "collapsed": true
      },
      "execution_count": 51,
      "outputs": [
        {
          "output_type": "stream",
          "name": "stdout",
          "text": [
            "I asked him if I wanted to make this movie, and he said no. He said he didn't want me to make it. So I had the opportunity to talk to him about Muaura, or something like that. And I asked him, what are the most important things in this story for you? And he told me 1 or 2 or 3 things, but he asked me to have The character of Howard White, Chris Tucker, who we have with us now, also of Jorge Raveling, the third and most important, he told me, you have to have Viola Davis for my mother. And I was like, yes, it's like asking if you can play basketball. And I said, yes, but you have to have Michael Jordan.\n",
            "time: 588 µs (started: 2023-11-15 17:37:54 +00:00)\n"
          ]
        }
      ]
    },
    {
      "cell_type": "markdown",
      "source": [
        "###**Run the Multilingual Model RAG Function**"
      ],
      "metadata": {
        "id": "Lvwg94ZvE_UA"
      }
    },
    {
      "cell_type": "code",
      "source": [
        "max_token_length = 512  #Maximum Token Length\n",
        "my_text = transcribed_txt #Text To Transcribe\n",
        "source_language = language   #Transcribed Text Language\n",
        "\n",
        "target_language = \"Enter The Target Language\" #Eg: Spanish,French,German as string\n",
        "\n",
        "#result list has summary string as 1st Item and translation string as 2nd item\n",
        "result = multilingual_model(my_text,source_language,target_language,max_token_length)\n"
      ],
      "metadata": {
        "colab": {
          "base_uri": "https://localhost:8080/",
          "height": 747,
          "referenced_widgets": [
            "37e86d5c11bf481e98c50bc663eba561",
            "8c0a19aef2d04afe921212f11d647803",
            "b7d5d9b12db143189cacacc37bf5be26",
            "69ce1ff52bac4ae5a8c55e353bcfd75a",
            "88e76616453448628a2375b89852e9c7",
            "2e90dd6970934727a05502ad2e819605",
            "295010cef5b94e4588ba562e49430cb9",
            "2b7cc78a8ecf48bd8ec7a7995024314a",
            "748f988c7cac4f8da084641efb2ab5f0",
            "e9e7b7820a144b96ace196e7f2309ff8",
            "16e36ca6453f433c9ab7be82cd8460f6",
            "ed7ed0ca5ddb4634a70da46562283f9c",
            "662437b8f1cb45bca22efee0a9fed9fd",
            "328214a223e94f3d8bb5a9c05cfe4495",
            "dee69f8d164e43f19700c1ddc0632279",
            "758f525c61a64695a1d94b796b82e6b7",
            "046b983d72aa488ba88e1e59ce88e3b2",
            "54e722213b9b437a971456309cf29c4f",
            "448bfce717114ac5b47c215574dd7a12",
            "7e316732ca2344dd8d96b81c31fbe386",
            "d10fdf71861343dd90caab2fc47cc064",
            "36eaf04c18f24a6eb79f30728f5be677",
            "4158f70e11c94f72995594037c6b5c24",
            "a185ac0be37e458eb35ca48c3304d43d",
            "9c17ef0bb6e249cf9064e52303a00cb8",
            "6cc6c92b6084435fafc3dae2c412f084",
            "b0eb96f25f374c59bf462e548e0b0b29",
            "118d436f1cf548ac9137700ab97d45a8",
            "f73ddbab18e447519775f13227a1358d",
            "1a2f7278a3b347d593086e1fcbfb6169",
            "ede31b85dd134b43943fb74ac2cdeebe",
            "b3332f7c7d5a4dc38e59680ca8bbe083",
            "c11e4ddb39b644bfac32874ce48ad55d",
            "2c3f60ef7de8401c87883f47c0cc42cb",
            "1140f01feea446cd8034a07bcb716443",
            "9cb2c5a6d375463f9c680c615194369f",
            "e941b79978be42cc93a9fac29a80bc29",
            "342ca6295b2f4b24bd45e4d13ec88c54",
            "e0874d9f0c5247c0adf1f13080299221",
            "39f6e1e5be3d4fcba65166214d3b3952",
            "05be18f27bac4478a688d82348605b7e",
            "1ed390041c3b4748949cb5ac5733a6dc",
            "3c6374b7098448d98f27012365ee6f5a",
            "90ad76c962494acd89130f53a3439bb0",
            "0864c8f3fcf041129efceb08ea4f4ee5",
            "d0520364888344b784fba66624ce1527",
            "4d9c528cabf64a5e9b203b70119dcee7",
            "6a611874dd094d73aedfc10cb35e2d48",
            "02b0cb7191104ab19e9b1969750a9ce0",
            "a27b3f9a1c944d72bb694e1822233b64",
            "78cb5ac0a4d44e23a082858da8f0533a",
            "62bda7e1ce1a408cbc23942ef50097fe",
            "0954fe402ced43a7b50f1432d39dab38",
            "db1ff26b8efc49a9abe736ca34abb205",
            "f04ced1ec1ef4c3f9ffa43837e13a0b0",
            "75c3c9fdaae54de8a3f9896bbc75f775",
            "622563190dea4dd1a02e859eaa0db103",
            "4313e3e2e72d493792ae2fc81d3a290d",
            "7d9c2f835ede476a8ac06fbbbe65dbcc",
            "8274f2ab0e7e4063b8afe4e760f74cda",
            "2128aa9cccb647a58b741eca23000927",
            "16846d33565f40bd95d0d62f2965edaa",
            "7d5661035e1a4211a52d19510e2812c2",
            "287c45a5dd3648c6b43144d0f6e529b5",
            "b40890ed9f224415a9473d1f966640a5",
            "b8ebd43ca6834c8596d6c0af06aba1d2",
            "8f80cfc5fb8c466fa8d23bcd6746b075",
            "c7b123bbbbc24fd8bc24e127e70cd6c1",
            "aa10126804444cee8318cb8d0b8d929b",
            "9aa5e8a41fa44ed2b41af8ac0dc4e407",
            "6229932b2d184319be33a8fdb970da21",
            "2e4d436c5fa1419eb6d67937c2a1f4b9",
            "e7aa7ef01ba346959298a997e9b4f596",
            "b20d74ea1e7e49ee8e0bb69eb07b8883",
            "df00952ab5d8475fb4fc96c5e77c8893",
            "1913e178444e4c73a6227b595f2ce583",
            "daa728cda66f4cda88e1556a4114339f"
          ]
        },
        "id": "_IV6vLVp_N7s",
        "outputId": "147dec60-d348-4614-d777-c36fe7835cde",
        "collapsed": true
      },
      "execution_count": 76,
      "outputs": [
        {
          "output_type": "stream",
          "name": "stderr",
          "text": [
            "Truncation was not explicitly activated but `max_length` is provided a specific value, please use `truncation=True` to explicitly truncate examples to max length. Defaulting to 'longest_first' truncation strategy. If you encode pairs of sequences (GLUE-style) with the tokenizer you can select this strategy more precisely by providing a specific strategy to `truncation`.\n"
          ]
        },
        {
          "output_type": "stream",
          "name": "stdout",
          "text": [
            "-----------------------------Summarization Done... Working on Translation------------------------------\n",
            "Yes!!...english is a supported Language!\n",
            "-----------------------------Translating German to English-----------------------------\n",
            "\n",
            "--------------------------------Model Name : Helsinki-NLP/opus-mt-de-en------------------------------------------\n"
          ]
        },
        {
          "output_type": "display_data",
          "data": {
            "text/plain": [
              "Downloading (…)lve/main/config.json:   0%|          | 0.00/1.38k [00:00<?, ?B/s]"
            ],
            "application/vnd.jupyter.widget-view+json": {
              "version_major": 2,
              "version_minor": 0,
              "model_id": "37e86d5c11bf481e98c50bc663eba561"
            }
          },
          "metadata": {}
        },
        {
          "output_type": "display_data",
          "data": {
            "text/plain": [
              "Downloading pytorch_model.bin:   0%|          | 0.00/298M [00:00<?, ?B/s]"
            ],
            "application/vnd.jupyter.widget-view+json": {
              "version_major": 2,
              "version_minor": 0,
              "model_id": "ed7ed0ca5ddb4634a70da46562283f9c"
            }
          },
          "metadata": {}
        },
        {
          "output_type": "display_data",
          "data": {
            "text/plain": [
              "Downloading (…)neration_config.json:   0%|          | 0.00/293 [00:00<?, ?B/s]"
            ],
            "application/vnd.jupyter.widget-view+json": {
              "version_major": 2,
              "version_minor": 0,
              "model_id": "4158f70e11c94f72995594037c6b5c24"
            }
          },
          "metadata": {}
        },
        {
          "output_type": "display_data",
          "data": {
            "text/plain": [
              "Downloading (…)okenizer_config.json:   0%|          | 0.00/42.0 [00:00<?, ?B/s]"
            ],
            "application/vnd.jupyter.widget-view+json": {
              "version_major": 2,
              "version_minor": 0,
              "model_id": "2c3f60ef7de8401c87883f47c0cc42cb"
            }
          },
          "metadata": {}
        },
        {
          "output_type": "display_data",
          "data": {
            "text/plain": [
              "Downloading (…)olve/main/source.spm:   0%|          | 0.00/797k [00:00<?, ?B/s]"
            ],
            "application/vnd.jupyter.widget-view+json": {
              "version_major": 2,
              "version_minor": 0,
              "model_id": "0864c8f3fcf041129efceb08ea4f4ee5"
            }
          },
          "metadata": {}
        },
        {
          "output_type": "display_data",
          "data": {
            "text/plain": [
              "Downloading (…)olve/main/target.spm:   0%|          | 0.00/768k [00:00<?, ?B/s]"
            ],
            "application/vnd.jupyter.widget-view+json": {
              "version_major": 2,
              "version_minor": 0,
              "model_id": "75c3c9fdaae54de8a3f9896bbc75f775"
            }
          },
          "metadata": {}
        },
        {
          "output_type": "display_data",
          "data": {
            "text/plain": [
              "Downloading (…)olve/main/vocab.json:   0%|          | 0.00/1.27M [00:00<?, ?B/s]"
            ],
            "application/vnd.jupyter.widget-view+json": {
              "version_major": 2,
              "version_minor": 0,
              "model_id": "8f80cfc5fb8c466fa8d23bcd6746b075"
            }
          },
          "metadata": {}
        },
        {
          "output_type": "stream",
          "name": "stderr",
          "text": [
            "WARNING:py.warnings:/usr/local/lib/python3.10/dist-packages/transformers/tokenization_utils_base.py:3982: FutureWarning: \n",
            "`prepare_seq2seq_batch` is deprecated and will be removed in version 5 of HuggingFace Transformers. Use the regular\n",
            "`__call__` method to prepare your inputs and targets.\n",
            "\n",
            "Here is a short example:\n",
            "\n",
            "model_inputs = tokenizer(src_texts, text_target=tgt_texts, ...)\n",
            "\n",
            "If you either need to use different keyword arguments for the source and target texts, you should do two calls like\n",
            "this:\n",
            "\n",
            "model_inputs = tokenizer(src_texts, ...)\n",
            "labels = tokenizer(text_target=tgt_texts, ...)\n",
            "model_inputs[\"labels\"] = labels[\"input_ids\"]\n",
            "\n",
            "See the documentation of your specific tokenizer for more details on the specific arguments to the tokenizer of choice.\n",
            "For a more complete example, see the implementation of `prepare_seq2seq_batch`.\n",
            "\n",
            "  warnings.warn(formatted_warning, FutureWarning)\n",
            "\n"
          ]
        },
        {
          "output_type": "stream",
          "name": "stdout",
          "text": [
            "-----------------------------Translation Done... Fetching Results------------------------------\n",
            "time: 5min 48s (started: 2023-11-15 18:16:35 +00:00)\n"
          ]
        }
      ]
    },
    {
      "cell_type": "markdown",
      "source": [
        "##**Print The Results**"
      ],
      "metadata": {
        "id": "vOHagtwHF4wO"
      }
    },
    {
      "cell_type": "markdown",
      "source": [
        "###Transcribed Text Summarization"
      ],
      "metadata": {
        "id": "Y9Jt0MBBF8_g"
      }
    },
    {
      "cell_type": "code",
      "source": [
        "#Text Summary\n",
        "print(f\"-------------------------------Summary Of Transcribed Text In {source_language}----------------------------------------------\")\n",
        "result[0]\n"
      ],
      "metadata": {
        "colab": {
          "base_uri": "https://localhost:8080/",
          "height": 140
        },
        "id": "S5dL-8i8B8iC",
        "outputId": "9d98eab7-e0ac-4f41-9da8-b07566e2f35d",
        "collapsed": true
      },
      "execution_count": 77,
      "outputs": [
        {
          "output_type": "stream",
          "name": "stdout",
          "text": [
            "-------------------------------Summary Of Transcribed Text In German----------------------------------------------\n"
          ]
        },
        {
          "output_type": "execute_result",
          "data": {
            "text/plain": [
              "'Buch Adaptationen sind sehr seltsame Wurzeln. In meiner Meinung ist der einzige Weg, einen Film auf dem Grunde eines Buches zu genießen. Einer meiner Lieblingsbuch-zu-Film-Adaptationen ist Guide.Der Film war nicht R.K. Narayans Guide, sondern die Version von Vijay Anand. Der Film verändert ein Buch in einen unheimlich schönen Film. Der Autor Kalki Krishnamurthy wäre sehr glücklich.Das Buch wurde geschlachtet und die Seiten und Bilder flüchten von einem Stück der Ausstellung zu einem anderen. Nehmt den Charakter der Boatwoman, Pungarelli, gespielt von Aishwarya Lakshmi. Kalki introduziert sie während des Sonnenspiels als sie eine Lied singt.Dieser Film hat mir nicht gut gelungen, aber hier funktioniert diese hochwertige, surreale Auffassung wunderschön. Die spielfreie Szene, in der Karthi mit Jayaram trifft. Die intensive Konversation zwischen Trisha und Vikram. Die tragischen tränen, die in Aishwarya Rai Bachchans Auge wachsen.Die flirtausende Szene zwischen Trisha und Karthi, die seduktive Szene. zw. Aishwarya und Sarath Kumar, die nonverbalen Katastrophen zwich. Die Szene mit Trishas hilreisen politischen Bewegungen, die zeigen, dass die Männer vielleicht direkt auf Schemern sind.Das ist ein Film mit konstantem Bewegungsverhalten. Es sind entweder die Kämpfe oder die Köpfe or die nieendings endgültigen Mindgames, die sich im Narrativ wie ein schmutziger Schlangenkrebs umdrehen. Ich liebe die Abwechslung von Vikrams emotionalen Erkennung zu der getrunkenen ErKennung von Chora Chora.Außerdem ist diese Geschichte von politischer Intrigue bemerkenswert nach dem heutigen Tag, wo politische Gruppen zusammenkommen. Maniratnam alles aus dem All real. Es gibt keine Masken-dialoge, die Witze werden kasuell ausgetauscht.Jaiyam Ravi verwendet so wenig, so viel zu verbreiten. Es ist wirklich schwer, einen guten Mann auf dem Bildschirm zu porträtieren, ohne ihn zu erscheinen. Die Enderleitung eines berühmten Minors in dem Buch ist großartig.'"
            ],
            "application/vnd.google.colaboratory.intrinsic+json": {
              "type": "string"
            }
          },
          "metadata": {},
          "execution_count": 77
        },
        {
          "output_type": "stream",
          "name": "stdout",
          "text": [
            "time: 7.22 ms (started: 2023-11-15 18:23:25 +00:00)\n"
          ]
        }
      ]
    },
    {
      "cell_type": "markdown",
      "source": [
        "###Transcribed Text Translation"
      ],
      "metadata": {
        "id": "g9gO6dD8GDO9"
      }
    },
    {
      "cell_type": "code",
      "source": [
        "#Text Translation\n",
        "print(f\"-------------------------------Transcribed Text Translation In {target_language}---------------------------------------------\")\n",
        "result[1]  #Kindly expand the output by clicking the '...'"
      ],
      "metadata": {
        "colab": {
          "base_uri": "https://localhost:8080/",
          "height": 695
        },
        "id": "Z9H-wOyQEvnd",
        "outputId": "ff3a7cb2-f9ad-45d3-8f51-74f137837d12",
        "collapsed": true
      },
      "execution_count": 80,
      "outputs": [
        {
          "output_type": "stream",
          "name": "stdout",
          "text": [
            "-------------------------------Transcribed Text Translation In English---------------------------------------------\n"
          ]
        },
        {
          "output_type": "execute_result",
          "data": {
            "text/plain": [
              "\"Hello and welcome to Galata Plus. In this episode we are talking about Maniratham's PS1, Ponin Selvan 1, which is based on Kalki Krishnamurtis Novel and the movie stars Karthi, Vikram, Jaim Ravi, Trisha, Aishwarya Rai, Jairam and a whole team of others. Book adaptations are very strange roots and in my opinion the only way to enjoy a movie on the bottom of a book is to forget the book. Of course, this is impossible because the book is already in your hip and the book is imprinted in your memory. But what I mean by the word is just that, forget the fact that you will get the exact book. One of my favorite book-to-film adaptations is guide who became one of the greatest hits of Dev Anand, with great S.D. Bermann songs, a great and beautiful Vahida Rehman and a superb director of Vijay Anand. But R.Kayan, the author has the original book.The film was not R.K. Narayan's guide, but the version of R.K. Narayan's guide by film maker Vijay Anand. I remember this accident when Poni & Selvan finally came to the destination after decades of different people. And I think the author Kalki Krishnamurthy would have been very happy if there were the version of Kalkis Ponenselvan by Mani Ratnam. The film changed a book into an incredibly beautiful film, and I am not only talking about Ravivarman's mood for mood, which is created with a damp vikram from a dung, but also the writing of Mani Ratnam, Ilango Kumaravel and B.J. Mohan. There is an early visual of the Pandya flag, which is framed in two pieces and half of a narrator is in the next piece.The book was slaughtered and the pages and pictures fled from one piece of the exhibition to another. Take the character of Boatwoman, Pungarelli, played by Aishwarya Lakshmi. Kalki introduced it during the sun play, when she sings a song that is so sweet that nature stands still. The music in the film, written by Shiva Anand, is not the same music that Poongurli sings in the book, but it begins with the same word, Alai Kadal, and A. R. Rahman's music perfectly shows what Kalki calls as the Inwedes, or the Sweet Dreams, in Poongurli's voice. We don't see here any other things from the book. We don't see Pungurli saving Vandya Devan from Kuhgasse. We don't see how his face looks like an eye that causes the wonder. We don't see him, the father of his desire to drive across the ocean, to Sri Lanka. We don't see that she jumps on the boat, to save him and to the lake.But the image we get gives us a sense of it. We see it, like a mermaid, out of the lake. And he's already on the boat, although he's already said goodbye in a previous scene that he's afraid of water. That's what I mean, basically. In one way we're talking about Maniratnam's view in Chakrachyavanavanam, where characters and situations were thrown at us with intensity and heavy economy. I didn't succeed in this film, but here this high-quality, surreal view works beautifully. The play-free scene in which Karthi meets Jayaram, the intense conversation between Trisha and Vikram, The tragic tears that grow in Aishwarya Raichan's eye when she hears the name of a former lover. A next scene between her and Karthi, where we see her manipulative side. The scene in which Jaya Chitra Rahman reminds us of his duties.The flirtous scene between Trisha and Karthi, the seductive scene between Aishwarya and Sarath Kumar, the nonverbal catastrophes between Aishwarya and Trisha, the Boys wants to be Boys scene, where Karthi and Jaim Ravi meet, the scene with Trisha's hot travel political movements that show that the men may be directly on Schemern, but it's the women who are the most devious Schemern. And they move this story with their agenda. In other words, each character has a strong scene or three where his essence is created. Part of me wanted a 10-hour film, but given 2 hours and 45 minutes, there really is no other way to tell the story on stage. And the great plus is, Mani Ratnam, the director, to see in devout form with his fantastic technical team. Tota Tarani deals with the production design, Shrikar Prasad is the editor and the kinemakinist Ravi Varman fills the picture with colors.From the bloom of the lakes to the browns of the earth. From the monochrome, dark, pink interiors of a royal chamber to the all-expanding, rainbow-colored colors of Raja Sammamane. This is a film with constant movement behavior. It's either the fights or the fights or the never-ending final mindgames that turn around in the narrative like a dirty snake cancer. Could the ARR-man-song be completely slipped to make more narrative? I love the variety of Vikram's emotional recognition to the drunken recognition of Chora Chora. I love that a long comic tour, in which Kathi is involved, gives a change to the play-free revenge Samavanee. But if necessary I would have liked to use the songs, which were used by more interaction between the characters or perhaps more time for the action scenes. At the moment they look like disguised versions of longer action blocks, but then we have the books.Besides, this story of political intrigue is remarkable after today, where political groups come together, band together and spread as it suits them. So it doesn't need much expression. Except for the costumes and the language, this is a very contemporary narrative about an empty king, Sundarachola, played by Prakash Raj and his three children. Again, we have shadows of Chekachewanam. Instead of emptying ourselves with epicism, Maniratnam goes all out of space real. There are no mask dialogues, the jokes are exchanged kasually, the astounding confrontations are mediated in the same tone and even the fights are set up as spectacles due to the spectacle. Some are like the delicious, simple sword fights that we have seen in the MGR films. And all actors are fantastic, especially Vikram, Aishwarya, Trisha and Karthi, although Jairam would probably steal the show in a comic role with documents.If Karthi and Jairam give great performances because their role is like that, they are well-rehearsed by the others. Jaiyam Ravi uses so little to spread so much, and it's really hard to portray a good man on the screen without appearing him. And the ender guidance of a famous minor in the book is great. This character-guided first spot sets up perfectly the stage for the second setting that can now build the floor. Besides, it shows how a huge novel can be condensed convincingly, that's the greatest achievement of this movie. And that was it from Puneen Selvan Part 1. If you liked this review, Galata Plus subscribes and we'll see you soon in the movies. Apart from showing how a hube novel can be convincingly condensed, that's this films's biggest achievement. And that's it about Pony in Ceylon part 1. If you liked this review, do subscribe to Galata Plus and see you at 2021 so SWon.\""
            ],
            "application/vnd.google.colaboratory.intrinsic+json": {
              "type": "string"
            }
          },
          "metadata": {},
          "execution_count": 80
        },
        {
          "output_type": "stream",
          "name": "stdout",
          "text": [
            "time: 9.28 ms (started: 2023-11-15 18:24:08 +00:00)\n"
          ]
        }
      ]
    },
    {
      "cell_type": "markdown",
      "source": [
        "##**Saving The Results**"
      ],
      "metadata": {
        "id": "KaRnm0fxGUBq"
      }
    },
    {
      "cell_type": "code",
      "source": [
        "summary_path = 'summary.txt'  # Replace with the desired file path\n",
        "translation_path = 'translation.txt'\n",
        "\n",
        "with open(summary_path, 'w') as file:\n",
        "    file.write(result[0])\n",
        "\n",
        "with open(translation_path, 'w') as file:\n",
        "\n",
        "    file.write(result[1])\n",
        "\n",
        "\n",
        "print(f'The string has been saved to {summary_path}')\n",
        "print(f'The string has been saved to {translation_path}')"
      ],
      "metadata": {
        "colab": {
          "base_uri": "https://localhost:8080/"
        },
        "collapsed": true,
        "id": "I1K1XNNKGaLt",
        "outputId": "b602f1ce-ae4d-4690-d4f5-20d4e3fc19fa"
      },
      "execution_count": 55,
      "outputs": [
        {
          "output_type": "stream",
          "name": "stdout",
          "text": [
            "The string has been saved to summary.txt\n",
            "The string has been saved to translation.txt\n",
            "time: 7.82 ms (started: 2023-11-15 17:50:30 +00:00)\n"
          ]
        }
      ]
    },
    {
      "cell_type": "markdown",
      "source": [
        "#**The End**"
      ],
      "metadata": {
        "id": "kN8C9cKTG3z2"
      }
    }
  ]
}